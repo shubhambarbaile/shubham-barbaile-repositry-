{
 "cells": [
  {
   "cell_type": "code",
   "execution_count": 1,
   "id": "f3cc1ea6-d800-4709-b1df-be9802cea67a",
   "metadata": {},
   "outputs": [
    {
     "data": {
      "text/plain": [
       "' Artifical Intelligence is basically a smart application which performs the task without any human interaction. \\n \\nMachine learning is a branch of artificial intelligence (AI) and computer science which focuses on the use of \\ndata and algorithms to imitate the way that humans learn, gradually improving its accuracy.\\n\\nDeep learning is part of machinbe learning it can use for mimcing the human brain.\\n\\n'"
      ]
     },
     "execution_count": 1,
     "metadata": {},
     "output_type": "execute_result"
    }
   ],
   "source": [
    "\"\"\" Artifical Intelligence is basically a smart application which performs the task without any human interaction. \n",
    " \n",
    "Machine learning is a branch of artificial intelligence (AI) and computer science which focuses on the use of \n",
    "data and algorithms to imitate the way that humans learn, gradually improving its accuracy.\n",
    "\n",
    "Deep learning is part of machinbe learning it can use for mimcing the human brain.\n",
    "\n",
    "\"\"\""
   ]
  },
  {
   "cell_type": "code",
   "execution_count": null,
   "id": "034d50fd-7203-4951-85bf-91c5d130c67a",
   "metadata": {},
   "outputs": [],
   "source": [
    "\"\"\"\n",
    "Supervised learnig is one of the type of machine learning and in supervised learning is used predicting.\n",
    "In supervised learnig there are two types Classification and the Regression in this both output is the feature value. \n",
    "\n",
    "ex = sales, salary, weight, or temperature. For example: A dataset containing features of the house such as lot size, \n",
    "number of bedrooms, number of baths, neighborhood,\"\"\""
   ]
  },
  {
   "cell_type": "code",
   "execution_count": null,
   "id": "0c66b006-e82a-4d78-a244-9d8bf5737dbc",
   "metadata": {},
   "outputs": [],
   "source": [
    "\"\"\" Unsupervised learning is a type of machine learning algorithm that is generally used to find the hidden\n",
    "structured and patterns in the given unlabeled data.\n",
    "\n",
    "ex = dataset containing images of different types of cats and dogs.\"\"\""
   ]
  },
  {
   "cell_type": "code",
   "execution_count": null,
   "id": "fd3a096e-1373-476f-8373-7377486f5be2",
   "metadata": {},
   "outputs": [],
   "source": [
    "\"\"\"AI is a computer algorithm which exhibits intelligence through decision making.\t\n",
    "ML is an AI algorithm which allows system to learn from data.\t\n",
    "DL is a ML algorithm that uses deep(more than one layer) neural networks to analyze data and provide output accordingly.\n",
    "Data science is the study of data to extract meaningful insights for business. It is a multidisciplinary approach that \n",
    "combines principles and practices from the fields of mathematics, statistics, artificial intelligence, \n",
    "nd computer engineering to analyze large amounts of data.\"\"\""
   ]
  },
  {
   "cell_type": "code",
   "execution_count": null,
   "id": "943967ac-26bd-4555-833c-88bb6906b7b1",
   "metadata": {},
   "outputs": [],
   "source": [
    "\"\"\" talking about the difference between the supervised unsupervised and semi supervised learning\n",
    "supervised learning is the type of Machine learning and in this type we supervised the ML model to predeict the output \n",
    "and in this the output is depend on the input. \n",
    "Unsupervised learning is the type of Machine Learning and in this type there is no specific data or the output is no featur \n",
    "basically in this type we make cluster or groups the same type of data.\n",
    "Semi supervised learning is the type in which we  use both the type supervised and unsupervised type to make a desicion \n",
    "\"\"\""
   ]
  },
  {
   "cell_type": "code",
   "execution_count": null,
   "id": "b8b538bf-271b-49ac-b580-3eddff415c76",
   "metadata": {},
   "outputs": [],
   "source": [
    "\"\"\" with train we train the mnodel with the dataset \n",
    "With validation hypertunne the model with dataset \n",
    "And with the test we test the model is that working properly or not\n",
    "\"\"\""
   ]
  },
  {
   "cell_type": "code",
   "execution_count": null,
   "id": "46c5ac46-b7a4-465e-8617-c268906843ce",
   "metadata": {},
   "outputs": [],
   "source": [
    "\"\"\" Basically the unsupervised learning means making the cluster of data which have same properties or something similar\n",
    "if we have a clusturs of a dataset and we train the model with all that clusters but in any condition we detect any data that\n",
    "is coming out of this clusters that is mean something is wrong and by this process we can detect the anolomy with unsupervised \n",
    "learning. \"\"\""
   ]
  },
  {
   "cell_type": "code",
   "execution_count": null,
   "id": "96315ee7-40c7-4bfa-843a-cd18104f0d9b",
   "metadata": {},
   "outputs": [],
   "source": [
    "\"\"\" supervised learning = Decision Treess ,support Vector Machines, Random Forests,Naive Bayes\n",
    "\n",
    "Unsupervised Learning = K-means, Hierarchical clustering, Dimensionality Reduction, Methods like PCA and t-SNE\"\"\""
   ]
  },
  {
   "cell_type": "code",
   "execution_count": null,
   "id": "f5170bd1-e426-4ca5-8254-628c4497eb11",
   "metadata": {},
   "outputs": [],
   "source": []
  }
 ],
 "metadata": {
  "kernelspec": {
   "display_name": "Python 3 (ipykernel)",
   "language": "python",
   "name": "python3"
  },
  "language_info": {
   "codemirror_mode": {
    "name": "ipython",
    "version": 3
   },
   "file_extension": ".py",
   "mimetype": "text/x-python",
   "name": "python",
   "nbconvert_exporter": "python",
   "pygments_lexer": "ipython3",
   "version": "3.10.8"
  }
 },
 "nbformat": 4,
 "nbformat_minor": 5
}
