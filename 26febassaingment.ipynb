{
 "cells": [
  {
   "cell_type": "code",
   "execution_count": 10,
   "id": "5c887241-8d0d-489b-aae3-cc4d0b0eedc1",
   "metadata": {},
   "outputs": [],
   "source": [
    "import numpy as np\n",
    "list_ = [1,2,3,4,5]\n",
    "array_list = np.array(list_)"
   ]
  },
  {
   "cell_type": "code",
   "execution_count": 12,
   "id": "b2befd8e-4dd2-41f1-80e2-a16ecfbb4fee",
   "metadata": {},
   "outputs": [
    {
     "name": "stdout",
     "output_type": "stream",
     "text": [
      "<class 'list'>\n",
      "<class 'numpy.ndarray'>\n"
     ]
    }
   ],
   "source": [
    "#The List refers to a collection of various elements in a sequence, in which every element is basically an object.#\n",
    "#Also, we can access these elements by their positions (index). On the other hand, an ArrayList creates an array \n",
    "#(dynamic) of the objects that can easily reduce or increase in size as and when required.\n",
    "list_ = [1,2,3,4,5]\n",
    "print (type(list_))\n",
    "\n",
    "print(type(array_list))"
   ]
  },
  {
   "cell_type": "code",
   "execution_count": 14,
   "id": "1702f2b3-c8bb-447a-a849-c25668fc1dda",
   "metadata": {},
   "outputs": [
    {
     "name": "stdout",
     "output_type": "stream",
     "text": [
      "<class 'int'>\n",
      "<class 'int'>\n",
      "<class 'int'>\n",
      "<class 'int'>\n",
      "<class 'int'>\n"
     ]
    }
   ],
   "source": [
    "for i in list_:\n",
    "    print(type(i))"
   ]
  },
  {
   "cell_type": "code",
   "execution_count": 15,
   "id": "70071d5d-9f3f-4a79-8cb1-972d8c4fc8b0",
   "metadata": {},
   "outputs": [
    {
     "name": "stdout",
     "output_type": "stream",
     "text": [
      "<class 'numpy.int64'>\n",
      "<class 'numpy.int64'>\n",
      "<class 'numpy.int64'>\n",
      "<class 'numpy.int64'>\n",
      "<class 'numpy.int64'>\n"
     ]
    }
   ],
   "source": [
    "for i in array_list:\n",
    "    print(type(i))"
   ]
  },
  {
   "cell_type": "code",
   "execution_count": 16,
   "id": "6f79946c-ca65-40a0-bf4f-45d011dfb852",
   "metadata": {},
   "outputs": [],
   "source": [
    "# question 3\n",
    "import numpy as np\n",
    "num_list = [ [ 1 , 2 , 3 ] , [ 4 , 5 , 6 ] ]\n",
    "num_array = np.array(object = num_list)"
   ]
  },
  {
   "cell_type": "code",
   "execution_count": 24,
   "id": "a0755df2-5e0d-415a-af03-88034efa35a1",
   "metadata": {},
   "outputs": [
    {
     "data": {
      "text/plain": [
       "dtype('int64')"
      ]
     },
     "execution_count": 24,
     "metadata": {},
     "output_type": "execute_result"
    }
   ],
   "source": [
    "num_array.dtype"
   ]
  },
  {
   "cell_type": "code",
   "execution_count": 19,
   "id": "ba79ddc5-4a82-4c17-a8ee-35eadcd6815e",
   "metadata": {},
   "outputs": [],
   "source": [
    "\n",
    "num_list = [ [ 1 , 2 , 3 ] , [ 4 , 5 , 6 ] ]\n"
   ]
  },
  {
   "cell_type": "code",
   "execution_count": 22,
   "id": "50a7de37-1b95-4083-97cc-d40a27c842c1",
   "metadata": {},
   "outputs": [
    {
     "name": "stdout",
     "output_type": "stream",
     "text": [
      "<class 'list'>\n"
     ]
    }
   ],
   "source": [
    "print(type(num_list))"
   ]
  },
  {
   "cell_type": "code",
   "execution_count": 25,
   "id": "e99ce63b-b5e0-4dc3-82b0-dbe77d9b627a",
   "metadata": {},
   "outputs": [],
   "source": [
    "# for the variable list he data type will be list and for the arr_list the data type will be int"
   ]
  },
  {
   "cell_type": "code",
   "execution_count": 27,
   "id": "a1236cd5-3868-49f1-b9e4-b1155044a479",
   "metadata": {},
   "outputs": [],
   "source": [
    "#question no 4\n",
    "import numpy as np "
   ]
  },
  {
   "cell_type": "code",
   "execution_count": 28,
   "id": "8ee7ad35-36a2-4458-aa01-241793273f48",
   "metadata": {},
   "outputs": [],
   "source": [
    "ab = ([1,5,2,6,7,5,8,5])"
   ]
  },
  {
   "cell_type": "code",
   "execution_count": 29,
   "id": "61d24700-a42c-4e23-b092-8bac34831351",
   "metadata": {},
   "outputs": [],
   "source": [
    "ac = np.array(ab)"
   ]
  },
  {
   "cell_type": "code",
   "execution_count": 31,
   "id": "39eee3fd-3553-44a6-9a35-24267fbee5aa",
   "metadata": {},
   "outputs": [
    {
     "data": {
      "text/plain": [
       "(8,)"
      ]
     },
     "execution_count": 31,
     "metadata": {},
     "output_type": "execute_result"
    }
   ],
   "source": [
    "ac.shape"
   ]
  },
  {
   "cell_type": "code",
   "execution_count": 32,
   "id": "7f738f8d-8068-48fb-96ad-394d67f1ed4d",
   "metadata": {},
   "outputs": [
    {
     "data": {
      "text/plain": [
       "array([[1, 5, 2, 6],\n",
       "       [7, 5, 8, 5]])"
      ]
     },
     "execution_count": 32,
     "metadata": {},
     "output_type": "execute_result"
    }
   ],
   "source": [
    "ac.reshape(2,4)"
   ]
  },
  {
   "cell_type": "code",
   "execution_count": 33,
   "id": "edc143ef-41c2-48fa-99a5-197bc91e2df3",
   "metadata": {},
   "outputs": [],
   "source": [
    "#5 question \n"
   ]
  },
  {
   "cell_type": "code",
   "execution_count": 41,
   "id": "caa04c24-5d2a-4040-95a8-672f3b797878",
   "metadata": {},
   "outputs": [],
   "source": [
    "import numpy as np"
   ]
  },
  {
   "cell_type": "code",
   "execution_count": 44,
   "id": "b729dbbd-59c3-4b49-afe9-0e7aa4161642",
   "metadata": {},
   "outputs": [],
   "source": [
    "ab = np.zeros(9)"
   ]
  },
  {
   "cell_type": "code",
   "execution_count": 45,
   "id": "ebd70423-d314-4ac9-9079-42217c844e17",
   "metadata": {},
   "outputs": [
    {
     "data": {
      "text/plain": [
       "array([[0., 0., 0.],\n",
       "       [0., 0., 0.],\n",
       "       [0., 0., 0.]])"
      ]
     },
     "execution_count": 45,
     "metadata": {},
     "output_type": "execute_result"
    }
   ],
   "source": [
    "ab.reshape(3,3)"
   ]
  },
  {
   "cell_type": "code",
   "execution_count": 46,
   "id": "f8f06067-9b18-4935-b001-863bbf958a13",
   "metadata": {},
   "outputs": [],
   "source": [
    "# question no 6"
   ]
  },
  {
   "cell_type": "code",
   "execution_count": 47,
   "id": "5e03ab8a-a168-4d42-896a-47e25579888d",
   "metadata": {},
   "outputs": [],
   "source": [
    "import numpy as np "
   ]
  },
  {
   "cell_type": "code",
   "execution_count": 48,
   "id": "84c07e38-8076-431c-844e-3622c1a16b0b",
   "metadata": {},
   "outputs": [],
   "source": [
    "ab = np.eye(5)"
   ]
  },
  {
   "cell_type": "code",
   "execution_count": 49,
   "id": "f3374ca5-9f0b-4b25-981f-8cdc50a42dfe",
   "metadata": {},
   "outputs": [
    {
     "data": {
      "text/plain": [
       "array([[1., 0., 0., 0., 0.],\n",
       "       [0., 1., 0., 0., 0.],\n",
       "       [0., 0., 1., 0., 0.],\n",
       "       [0., 0., 0., 1., 0.],\n",
       "       [0., 0., 0., 0., 1.]])"
      ]
     },
     "execution_count": 49,
     "metadata": {},
     "output_type": "execute_result"
    }
   ],
   "source": [
    "ab"
   ]
  },
  {
   "cell_type": "code",
   "execution_count": null,
   "id": "446f63e1-c5c3-4c20-ae07-cafdbdf0928f",
   "metadata": {},
   "outputs": [],
   "source": []
  }
 ],
 "metadata": {
  "kernelspec": {
   "display_name": "Python 3 (ipykernel)",
   "language": "python",
   "name": "python3"
  },
  "language_info": {
   "codemirror_mode": {
    "name": "ipython",
    "version": 3
   },
   "file_extension": ".py",
   "mimetype": "text/x-python",
   "name": "python",
   "nbconvert_exporter": "python",
   "pygments_lexer": "ipython3",
   "version": "3.10.8"
  }
 },
 "nbformat": 4,
 "nbformat_minor": 5
}
