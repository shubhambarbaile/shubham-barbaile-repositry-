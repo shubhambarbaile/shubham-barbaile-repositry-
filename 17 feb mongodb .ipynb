{
 "cells": [
  {
   "cell_type": "code",
   "execution_count": 1,
   "id": "a53e32f0-c509-43ce-9438-2ebad77ea364",
   "metadata": {},
   "outputs": [
    {
     "data": {
      "text/plain": [
       "\"MongoDB is a document-oriented, open-source, cross-platform database program. It's a NoSQL database product \\nthat uses JSON-like documents with optional schemas. MongoDB is designed to handle large amounts of unstructured \\ndata and is considered one of the most powerful NoSQL systems\""
      ]
     },
     "execution_count": 1,
     "metadata": {},
     "output_type": "execute_result"
    }
   ],
   "source": [
    "\"\"\"MongoDB is a document-oriented, open-source, cross-platform database program. It's a NoSQL database product \n",
    "that uses JSON-like documents with optional schemas. MongoDB is designed to handle large amounts of unstructured \n",
    "data and is considered one of the most powerful NoSQL systems\"\"\"\n",
    "\n",
    "\n",
    "\"\"\"A non-relational database is a database that does not use the tabular schema of rows and columns found in\n",
    "most traditional database systems. Instead, non-relational databases use a storage model that is optimized for\n",
    "the specific requirements of the type of data being stored\"\"\"\n",
    "\n",
    "\n",
    "\"\"\"MongoDB is a good choice for unstructured and structured data that may grow quickly. It's also a good choice \n",
    "for cloud-based services\"\"\"\n",
    "\n"
   ]
  },
  {
   "cell_type": "code",
   "execution_count": 3,
   "id": "f96b897a-71bf-41eb-867c-550d11baadaa",
   "metadata": {},
   "outputs": [
    {
     "data": {
      "text/plain": [
       "'MongoDB is a NoSQL database that is designed to be scalable, flexible, and easy to use. \\nIt stores data in JSON-like documents, which makes it easy to work with complex data structures. \\nMongoDB also offers a variety of features that make it a good choice for a wide range of applications.'"
      ]
     },
     "execution_count": 3,
     "metadata": {},
     "output_type": "execute_result"
    }
   ],
   "source": [
    "\"\"\"MongoDB is a NoSQL database that is designed to be scalable, flexible, and easy to use. \n",
    "It stores data in JSON-like documents, which makes it easy to work with complex data structures. \n",
    "MongoDB also offers a variety of features that make it a good choice for a wide range of applications.\"\"\""
   ]
  },
  {
   "cell_type": "code",
   "execution_count": 5,
   "id": "60b6c8d8-dd02-428c-8477-5acf89e94546",
   "metadata": {},
   "outputs": [
    {
     "ename": "SyntaxError",
     "evalue": "invalid syntax (1762103249.py, line 1)",
     "output_type": "error",
     "traceback": [
      "\u001b[0;36m  Cell \u001b[0;32mIn[5], line 1\u001b[0;36m\u001b[0m\n\u001b[0;31m    pip install pymongo\u001b[0m\n\u001b[0m        ^\u001b[0m\n\u001b[0;31mSyntaxError\u001b[0m\u001b[0;31m:\u001b[0m invalid syntax\n"
     ]
    }
   ],
   "source": [
    "pip install pymongo\n",
    "\n",
    "import pymongo\n",
    "\n",
    "# Replace 'your_username', 'your_password', 'your_cluster_url' with your MongoDB credentials\n",
    "username = 'your_username'\n",
    "password = 'your_password'\n",
    "cluster_url = 'your_cluster_url'\n",
    "\n",
    "# Connect to the MongoDB cluster\n",
    "try:\n",
    "    client = pymongo.MongoClient(f\"mongodb+srv://{username}:{password}@{cluster_url}/test?retryWrites=true&w=majority\")\n",
    "    db = client.test  # Connect to the 'test' database (you can change this to your desired database)\n",
    "    print(\"Connected successfully to MongoDB.\")\n",
    "except pymongo.errors.ConnectionFailure as e:\n",
    "    print(\"Could not connect to MongoDB:\", e)\n",
    "\n",
    "# Disconnect from the MongoDB client\n",
    "client.close()\n",
    "print(\"Disconnected from MongoDB.\")\n"
   ]
  },
  {
   "cell_type": "code",
   "execution_count": 6,
   "id": "1b14c264-20a9-4851-824f-4d117dd1dcf2",
   "metadata": {},
   "outputs": [
    {
     "ename": "ModuleNotFoundError",
     "evalue": "No module named 'pymongo'",
     "output_type": "error",
     "traceback": [
      "\u001b[0;31m---------------------------------------------------------------------------\u001b[0m",
      "\u001b[0;31mModuleNotFoundError\u001b[0m                       Traceback (most recent call last)",
      "Cell \u001b[0;32mIn[6], line 1\u001b[0m\n\u001b[0;32m----> 1\u001b[0m \u001b[38;5;28;01mimport\u001b[39;00m \u001b[38;5;21;01mpymongo\u001b[39;00m\n\u001b[1;32m      3\u001b[0m \u001b[38;5;66;03m# Replace 'your_username', 'your_password', 'your_cluster_url' with your MongoDB credentials\u001b[39;00m\n\u001b[1;32m      4\u001b[0m username \u001b[38;5;241m=\u001b[39m \u001b[38;5;124m'\u001b[39m\u001b[38;5;124myour_username\u001b[39m\u001b[38;5;124m'\u001b[39m\n",
      "\u001b[0;31mModuleNotFoundError\u001b[0m: No module named 'pymongo'"
     ]
    }
   ],
   "source": [
    "import pymongo\n",
    "\n",
    "# Replace 'your_username', 'your_password', 'your_cluster_url' with your MongoDB credentials\n",
    "username = 'your_username'\n",
    "password = 'your_password'\n",
    "cluster_url = 'your_cluster_url'\n",
    "\n",
    "# Connect to the MongoDB cluster\n",
    "try:\n",
    "    client = pymongo.MongoClient(f\"mongodb+srv://{username}:{password}@{cluster_url}/test?retryWrites=true&w=majority\")\n",
    "    db = client.test  # Connect to the 'test' database (you can change this to your desired database)\n",
    "    print(\"Connected successfully to MongoDB.\")\n",
    "except pymongo.errors.ConnectionFailure as e:\n",
    "    print(\"Could not connect to MongoDB:\", e)\n",
    "\n",
    "# Define a collection\n",
    "collection = db.my_collection\n",
    "\n",
    "# Insert one record\n",
    "record_one = {\"name\": \"John\", \"age\": 30}\n",
    "result_one = collection.insert_one(record_one)\n",
    "print(\"Inserted one record with ID:\", result_one.inserted_id)\n",
    "\n",
    "# Insert many records\n",
    "records_many = [\n",
    "    {\"name\": \"Alice\", \"age\": 25},\n",
    "    {\"name\": \"Bob\", \"age\": 35},\n",
    "    {\"name\": \"Charlie\", \"age\": 40}\n",
    "]\n",
    "result_many = collection.insert_many(records_many)\n",
    "print(\"Inserted many records with IDs:\", result_many.inserted_ids)\n",
    "\n",
    "# Find one inserted record\n",
    "print(\"\\nFinding one inserted record:\")\n",
    "found_one = collection.find_one({\"name\": \"John\"})\n",
    "print(\"Found record:\", found_one)\n",
    "\n",
    "# Find all inserted records\n",
    "print(\"\\nFinding all inserted records:\")\n",
    "found_many = collection.find({\"age\": {\"$gt\": 30}})\n",
    "for record in found_many:\n",
    "    print(record)\n",
    "\n",
    "# Disconnect from the MongoDB client\n",
    "client.close()\n",
    "print(\"\\nDisconnected from MongoDB.\")\n"
   ]
  },
  {
   "cell_type": "code",
   "execution_count": 7,
   "id": "31922c67-66d7-4160-a5e5-03c72f7f8c39",
   "metadata": {},
   "outputs": [
    {
     "ename": "ModuleNotFoundError",
     "evalue": "No module named 'pymongo'",
     "output_type": "error",
     "traceback": [
      "\u001b[0;31m---------------------------------------------------------------------------\u001b[0m",
      "\u001b[0;31mModuleNotFoundError\u001b[0m                       Traceback (most recent call last)",
      "Cell \u001b[0;32mIn[7], line 3\u001b[0m\n\u001b[1;32m      1\u001b[0m \u001b[38;5;124;03m\"\"\"In mongoDB, the find() method is used to fetch a particular data from the table\"\"\"\u001b[39;00m\n\u001b[0;32m----> 3\u001b[0m \u001b[38;5;28;01mimport\u001b[39;00m \u001b[38;5;21;01mpymongo\u001b[39;00m\n\u001b[1;32m      5\u001b[0m \u001b[38;5;66;03m# Connect to MongoDB\u001b[39;00m\n\u001b[1;32m      6\u001b[0m client \u001b[38;5;241m=\u001b[39m pymongo\u001b[38;5;241m.\u001b[39mMongoClient(\u001b[38;5;124m\"\u001b[39m\u001b[38;5;124mmongodb://localhost:27017/\u001b[39m\u001b[38;5;124m\"\u001b[39m)\n",
      "\u001b[0;31mModuleNotFoundError\u001b[0m: No module named 'pymongo'"
     ]
    }
   ],
   "source": [
    "\"\"\"In mongoDB, the find() method is used to fetch a particular data from the table\"\"\"\n",
    "\n",
    "import pymongo\n",
    "\n",
    "# Connect to MongoDB\n",
    "client = pymongo.MongoClient(\"mongodb://localhost:27017/\")\n",
    "db = client[\"mydatabase\"]\n",
    "collection = db[\"mycollection\"]\n",
    "\n",
    "# Insert sample data\n",
    "data = [\n",
    "    {\"name\": \"Alice\", \"age\": 25},\n",
    "    {\"name\": \"Bob\", \"age\": 30},\n",
    "    {\"name\": \"Charlie\", \"age\": 35}\n",
    "]\n",
    "collection.insert_many(data)\n",
    "\n",
    "# Query documents where age is greater than 25\n",
    "cursor = collection.find({\"age\": {\"$gt\": 25}})\n",
    "\n",
    "# Print the retrieved documents\n",
    "for document in cursor:\n",
    "    print(document)\n",
    "\n",
    "# Close the connection\n",
    "client.close()\n",
    "\n"
   ]
  },
  {
   "cell_type": "code",
   "execution_count": 8,
   "id": "4f6b8cb7-dfeb-4dd1-9569-e0395c1326f4",
   "metadata": {},
   "outputs": [
    {
     "ename": "SyntaxError",
     "evalue": "invalid syntax. Perhaps you forgot a comma? (1009595134.py, line 4)",
     "output_type": "error",
     "traceback": [
      "\u001b[0;36m  Cell \u001b[0;32mIn[8], line 4\u001b[0;36m\u001b[0m\n\u001b[0;31m    db.collection_name.find().sort({field_name: sort order})\u001b[0m\n\u001b[0m                                                ^\u001b[0m\n\u001b[0;31mSyntaxError\u001b[0m\u001b[0;31m:\u001b[0m invalid syntax. Perhaps you forgot a comma?\n"
     ]
    }
   ],
   "source": [
    "\"\"\"In MongoDB, sorting is done by the sort() method. The sort() method consists of two basic building blocks. \n",
    "These building blocks are fields to be sorted and the sort order.\"\"\"\n",
    "\n",
    "db.collection_name.find().sort({field_name: sort order})"
   ]
  },
  {
   "cell_type": "code",
   "execution_count": null,
   "id": "392ca925-e27a-447a-88b6-320f1961e480",
   "metadata": {},
   "outputs": [],
   "source": [
    "\"\"\"In MongoDB, a single document can be deleted by the method delete_one()\"\"\"\n",
    "\n",
    "\"\"\"Delete_many() is used when one needs to delete more than one document\"\"\"\n",
    "\n",
    "\"\"\"The drop_index() library function in PyMongo is used to drop the index from a collection in the database, as the name suggests\"\"\""
   ]
  }
 ],
 "metadata": {
  "kernelspec": {
   "display_name": "Python 3 (ipykernel)",
   "language": "python",
   "name": "python3"
  },
  "language_info": {
   "codemirror_mode": {
    "name": "ipython",
    "version": 3
   },
   "file_extension": ".py",
   "mimetype": "text/x-python",
   "name": "python",
   "nbconvert_exporter": "python",
   "pygments_lexer": "ipython3",
   "version": "3.10.8"
  }
 },
 "nbformat": 4,
 "nbformat_minor": 5
}
