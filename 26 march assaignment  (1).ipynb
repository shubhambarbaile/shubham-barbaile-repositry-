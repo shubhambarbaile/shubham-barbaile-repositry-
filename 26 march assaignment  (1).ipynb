{
 "cells": [
  {
   "cell_type": "code",
   "execution_count": 7,
   "id": "5ea2d24a-347b-4174-bc77-f975f79d9a07",
   "metadata": {},
   "outputs": [
    {
     "data": {
      "text/plain": [
       "\" linear regression establishes the relationship between two variables. Linear regression is graphically \\ndepicted using a straight line with the slope defining how the change in one variable impacts a change in the other. \\nThe y-intercept of a linear regression relationship represents the value of one variable when the value of the other is 0.\\n in the linear regression formula of y = 3x + 7, there is only one possible outcome of 'y' if 'x' is defined as 2.\\n \\n \\nMultiple regression assumes there is not a strong relationship between each independent variable. \\nIt also assumes there is a correlation between each independent variable and the single dependent variable. \\nEach of these relationships is weighted to ensure more impactful independent variables drive the dependent\\nvalue by adding a unique regression coefficient to each independent variable.\\n\\nPrediction of CO2 emission based on engine size and number of cylinders in a car.\""
      ]
     },
     "execution_count": 7,
     "metadata": {},
     "output_type": "execute_result"
    }
   ],
   "source": [
    "\"\"\" linear regression establishes the relationship between two variables. Linear regression is graphically \n",
    "depicted using a straight line with the slope defining how the change in one variable impacts a change in the other. \n",
    "The y-intercept of a linear regression relationship represents the value of one variable when the value of the other is 0.\n",
    " in the linear regression formula of y = 3x + 7, there is only one possible outcome of 'y' if 'x' is defined as 2.\n",
    " \n",
    " \n",
    "Multiple regression assumes there is not a strong relationship between each independent variable. \n",
    "It also assumes there is a correlation between each independent variable and the single dependent variable. \n",
    "Each of these relationships is weighted to ensure more impactful independent variables drive the dependent\n",
    "value by adding a unique regression coefficient to each independent variable.\n",
    "\n",
    "Prediction of CO2 emission based on engine size and number of cylinders in a car.\"\"\""
   ]
  },
  {
   "cell_type": "code",
   "execution_count": 8,
   "id": "ed8cf22a-212d-45d6-9ead-cac1313eefba",
   "metadata": {},
   "outputs": [
    {
     "data": {
      "text/plain": [
       "'There is a linear relationship between the predictors (x) and the outcome (y)\\nPredictors (x) are independent and observed with negligible error.\\nResidual Errors have a mean value of zero.\\nResidual Errors have constant variance.\\nResidual Errors are independent from each other and predictors (x)'"
      ]
     },
     "execution_count": 8,
     "metadata": {},
     "output_type": "execute_result"
    }
   ],
   "source": [
    "\"\"\"There is a linear relationship between the predictors (x) and the outcome (y)\n",
    "Predictors (x) are independent and observed with negligible error.\n",
    "Residual Errors have a mean value of zero.\n",
    "Residual Errors have constant variance.\n",
    "Residual Errors are independent from each other and predictors (x)\"\"\""
   ]
  },
  {
   "cell_type": "code",
   "execution_count": 9,
   "id": "33a1837a-2dc7-4453-a267-9d4000406c5a",
   "metadata": {},
   "outputs": [
    {
     "data": {
      "text/plain": [
       "'Interpret the slope: If the speed of the club hitting the ball increases by 1 mph, then the model predicts\\nthat the length the ball travels increases by 57.66 yards. Interpret the intercept: If the ball is hit with \\na speed of 0 mph, then the model predicts that the length the ball travels will be 3.18 yards.'"
      ]
     },
     "execution_count": 9,
     "metadata": {},
     "output_type": "execute_result"
    }
   ],
   "source": [
    "\"\"\"Interpret the slope: If the speed of the club hitting the ball increases by 1 mph, then the model predicts\n",
    "that the length the ball travels increases by 57.66 yards. Interpret the intercept: If the ball is hit with \n",
    "a speed of 0 mph, then the model predicts that the length the ball travels will be 3.18 yards.\"\"\""
   ]
  },
  {
   "cell_type": "code",
   "execution_count": 10,
   "id": "f5b66e2d-464b-47f2-8cbe-55f40f1038fa",
   "metadata": {},
   "outputs": [
    {
     "data": {
      "text/plain": [
       "'Gradient descent is an optimization algorithm which is commonly-used to train machine learning models and neural networks. \\nTraining data helps these models learn over time, and the cost function within gradient descent specifically acts as a \\nbarometer, gauging its accuracy with each iteration of parameter updates.'"
      ]
     },
     "execution_count": 10,
     "metadata": {},
     "output_type": "execute_result"
    }
   ],
   "source": [
    "\"\"\"Gradient descent is an optimization algorithm which is commonly-used to train machine learning models and neural networks. \n",
    "Training data helps these models learn over time, and the cost function within gradient descent specifically acts as a \n",
    "barometer, gauging its accuracy with each iteration of parameter updates.\"\"\""
   ]
  },
  {
   "cell_type": "code",
   "execution_count": 11,
   "id": "793ad0bd-ec0e-46c7-8fd7-d772279b92c0",
   "metadata": {},
   "outputs": [
    {
     "data": {
      "text/plain": [
       "'Multiple regression is a broader class of regressions that encompasses linear and nonlinear regressions with \\nmultiple explanatory variables. Whereas linear regress only has one independent variable impacting the slope of \\nthe relationship, multiple regression incorporates multiple independent variables.'"
      ]
     },
     "execution_count": 11,
     "metadata": {},
     "output_type": "execute_result"
    }
   ],
   "source": [
    "\"\"\"Multiple regression is a broader class of regressions that encompasses linear and nonlinear regressions with \n",
    "multiple explanatory variables. Whereas linear regress only has one independent variable impacting the slope of \n",
    "the relationship, multiple regression incorporates multiple independent variables.\"\"\""
   ]
  },
  {
   "cell_type": "code",
   "execution_count": 12,
   "id": "bbdecc53-b34b-4a81-b46b-b271d325d477",
   "metadata": {},
   "outputs": [
    {
     "data": {
      "text/plain": [
       "'Multicollinearity occurs when independent variables in a regression model are correlated. This correlation is a\\nproblem because independent variables should be independent. If the degree of correlation between variables is high \\nenough, it can cause problems when you fit the model and interpret the results.'"
      ]
     },
     "execution_count": 12,
     "metadata": {},
     "output_type": "execute_result"
    }
   ],
   "source": [
    "\"\"\"Multicollinearity occurs when independent variables in a regression model are correlated. This correlation is a\n",
    "problem because independent variables should be independent. If the degree of correlation between variables is high \n",
    "enough, it can cause problems when you fit the model and interpret the results.\"\"\""
   ]
  },
  {
   "cell_type": "code",
   "execution_count": 13,
   "id": "9780b01d-1c8f-423e-b013-eaa5e85d9cde",
   "metadata": {},
   "outputs": [
    {
     "data": {
      "text/plain": [
       "'A polynomial regression model is a machine learning model that can capture non-linear \\nrelationships between variables by fitting a non-linear regression line, which may not be possible with\\nsimple linear regression. It is used when linear regression models may not adequately capture the complexity\\nof the relationship.'"
      ]
     },
     "execution_count": 13,
     "metadata": {},
     "output_type": "execute_result"
    }
   ],
   "source": [
    "\"\"\"A polynomial regression model is a machine learning model that can capture non-linear \n",
    "relationships between variables by fitting a non-linear regression line, which may not be possible with\n",
    "simple linear regression. It is used when linear regression models may not adequately capture the complexity\n",
    "of the relationship.\"\"\""
   ]
  },
  {
   "cell_type": "code",
   "execution_count": 14,
   "id": "8e833f2a-c8c4-4de0-99e8-64178ed99653",
   "metadata": {},
   "outputs": [
    {
     "data": {
      "text/plain": [
       "'Advantages = The polynomial regression is flexible enough to get fitted in a vast range of curvatures. \\nA broad range of functions can easily fit under it. \\nThe polynomial regression offers the best approximation of the relationship between the two dependent and independent variables.\\n\\n\\nDisadvantages = The presence of one or more outliers in the data can hurt the final results of the nonlinear analysis. \\nThe polynomial regression is very sensitive to the outliers. \\nVery few model validation tools are available that help detect the outliers in nonlinear regression compared to the ones\\npresent for linear regression. \\n\\nThe polynomial models can be used in those situations where the relationship between study and \\nexplanatory variables is curvilinear. Sometimes a nonlinear relationship in a small range of explanatory \\nvariable can also be modelled by polynomials.'"
      ]
     },
     "execution_count": 14,
     "metadata": {},
     "output_type": "execute_result"
    }
   ],
   "source": [
    "\"\"\"Advantages = The polynomial regression is flexible enough to get fitted in a vast range of curvatures. \n",
    "A broad range of functions can easily fit under it. \n",
    "The polynomial regression offers the best approximation of the relationship between the two dependent and independent variables.\n",
    "\n",
    "\n",
    "Disadvantages = The presence of one or more outliers in the data can hurt the final results of the nonlinear analysis. \n",
    "The polynomial regression is very sensitive to the outliers. \n",
    "Very few model validation tools are available that help detect the outliers in nonlinear regression compared to the ones\n",
    "present for linear regression. \n",
    "\n",
    "The polynomial models can be used in those situations where the relationship between study and \n",
    "explanatory variables is curvilinear. Sometimes a nonlinear relationship in a small range of explanatory \n",
    "variable can also be modelled by polynomials.\"\"\""
   ]
  },
  {
   "cell_type": "code",
   "execution_count": null,
   "id": "8af488aa-2811-43e1-bd49-c0af0ff74d94",
   "metadata": {},
   "outputs": [],
   "source": []
  }
 ],
 "metadata": {
  "kernelspec": {
   "display_name": "Python 3 (ipykernel)",
   "language": "python",
   "name": "python3"
  },
  "language_info": {
   "codemirror_mode": {
    "name": "ipython",
    "version": 3
   },
   "file_extension": ".py",
   "mimetype": "text/x-python",
   "name": "python",
   "nbconvert_exporter": "python",
   "pygments_lexer": "ipython3",
   "version": "3.10.8"
  }
 },
 "nbformat": 4,
 "nbformat_minor": 5
}
