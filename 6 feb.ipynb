{
 "cells": [
  {
   "cell_type": "code",
   "execution_count": 2,
   "id": "c150865d-ce5c-40ba-be6f-9e2b979a8f64",
   "metadata": {},
   "outputs": [
    {
     "name": "stdout",
     "output_type": "stream",
     "text": [
      "0\n"
     ]
    }
   ],
   "source": [
    "def product_of_numbers(lst):\n",
    "    flat_list = [item for sublist in lst for item in (sublist if isinstance(sublist, (list, tuple)) else [sublist])]\n",
    "    numbers = [num for num in flat_list if isinstance(num, (int, float))]\n",
    "    product = 1\n",
    "    for num in numbers:\n",
    "        product *= num\n",
    "    return product\n",
    "\n",
    "list1 = [1,2,3,4, [44,55,66, True], False, (34,56,78,89,34), {1,2,3,3,2,1}, {1:34, \"key2\": [55, 67, 78, 89], 4: (45, 22, 61, 34)}, [56, 'data science'], 'Machine Learning']\n",
    "\n",
    "result = product_of_numbers(list1)\n",
    "print(result)\n",
    "\n",
    "\n"
   ]
  },
  {
   "cell_type": "code",
   "execution_count": 3,
   "id": "0b32e8b1-ce18-4d0c-b8d2-cf3b125159ac",
   "metadata": {},
   "outputs": [
    {
     "name": "stdout",
     "output_type": "stream",
     "text": [
      "r$dzmg$gl$yvxlnv$z$wzgz$hxrvmgrhg.\n"
     ]
    }
   ],
   "source": [
    "def encrypt_message(message):\n",
    "    encrypted_message = \"\"\n",
    "    for char in message.lower():\n",
    "        if char.isalpha():\n",
    "            encrypted_char = chr(219 - ord(char))\n",
    "            encrypted_message += encrypted_char\n",
    "        elif char == ' ':\n",
    "            encrypted_message += '$'\n",
    "        else:\n",
    "            encrypted_message += char\n",
    "    return encrypted_message\n",
    "\n",
    "input_sentence = \"I want to become a Data Scientist.\"\n",
    "encrypted_sentence = encrypt_message(input_sentence)\n",
    "print(encrypted_sentence)\n"
   ]
  },
  {
   "cell_type": "code",
   "execution_count": null,
   "id": "6a336954-20b9-4144-ae0a-7ae6d8844e11",
   "metadata": {},
   "outputs": [],
   "source": []
  }
 ],
 "metadata": {
  "kernelspec": {
   "display_name": "Python 3 (ipykernel)",
   "language": "python",
   "name": "python3"
  },
  "language_info": {
   "codemirror_mode": {
    "name": "ipython",
    "version": 3
   },
   "file_extension": ".py",
   "mimetype": "text/x-python",
   "name": "python",
   "nbconvert_exporter": "python",
   "pygments_lexer": "ipython3",
   "version": "3.10.8"
  }
 },
 "nbformat": 4,
 "nbformat_minor": 5
}
