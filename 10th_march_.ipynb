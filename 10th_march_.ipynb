{
  "nbformat": 4,
  "nbformat_minor": 0,
  "metadata": {
    "colab": {
      "provenance": []
    },
    "kernelspec": {
      "name": "python3",
      "display_name": "Python 3"
    },
    "language_info": {
      "name": "python"
    }
  },
  "cells": [
    {
      "cell_type": "code",
      "execution_count": 1,
      "metadata": {
        "colab": {
          "base_uri": "https://localhost:8080/",
          "height": 53
        },
        "id": "FsMoPcdcNDor",
        "outputId": "adf61b32-1026-4078-e686-1aedaeb38a2c"
      },
      "outputs": [
        {
          "output_type": "execute_result",
          "data": {
            "text/plain": [
              "'A point estimate is a single value estimate of a parameter. For instance, a sample mean is a point estimate of\\n a population mean. An interval estimate gives you a range of values where the parameter is expected to lie. A confidence interval is the \\n most common type of interval estimate'"
            ],
            "application/vnd.google.colaboratory.intrinsic+json": {
              "type": "string"
            }
          },
          "metadata": {},
          "execution_count": 1
        }
      ],
      "source": [
        "#What is Estimation Statistics? Explain point estimate and interval estimate.\n",
        "\n",
        "\n",
        "\"\"\"A point estimate is a single value estimate of a parameter. For instance, a sample mean is a point estimate of\n",
        " a population mean. An interval estimate gives you a range of values where the parameter is expected to lie. A confidence interval is the\n",
        " most common type of interval estimate\"\"\""
      ]
    },
    {
      "cell_type": "code",
      "source": [
        "def estimate_population_mean(sample_mean, sample_std_dev, sample_size):\n",
        "    import math\n",
        "\n",
        "    # Calculate the standard error (standard deviation of the sampling distribution)\n",
        "    standard_error = sample_std_dev / math.sqrt(sample_size)\n",
        "\n",
        "    # Calculate the margin of error (critical value * standard error)\n",
        "    # Assuming a z-score of 1.96 for a 95% confidence interval\n",
        "    margin_of_error = 1.96 * standard_error\n",
        "\n",
        "    # Calculate the lower and upper bounds of the confidence interval\n",
        "    lower_bound = sample_mean - margin_of_error\n",
        "    upper_bound = sample_mean + margin_of_error\n",
        "\n",
        "    return lower_bound, upper_bound\n",
        "\n",
        "# Example usage\n",
        "sample_mean = 50\n",
        "sample_std_dev = 10\n",
        "sample_size = 100\n",
        "lower_bound, upper_bound = estimate_population_mean(sample_mean, sample_std_dev, sample_size)\n",
        "\n",
        "print(f\"Estimated population mean: {sample_mean} +/- {upper_bound - sample_mean} (95% confidence interval)\")\n",
        "print(f\"Lower bound: {lower_bound}, Upper bound: {upper_bound}\")\n"
      ],
      "metadata": {
        "colab": {
          "base_uri": "https://localhost:8080/"
        },
        "id": "9mv9a4hkOLgh",
        "outputId": "f11b6734-3178-4dda-9387-84c82b31407f"
      },
      "execution_count": 2,
      "outputs": [
        {
          "output_type": "stream",
          "name": "stdout",
          "text": [
            "Estimated population mean: 50 +/- 1.9600000000000009 (95% confidence interval)\n",
            "Lower bound: 48.04, Upper bound: 51.96\n"
          ]
        }
      ]
    },
    {
      "cell_type": "code",
      "source": [
        "#What is Hypothesis testing? Why is it used? State the importance of Hypothesis testing.\n",
        "\n",
        "\"\"\"Hypothesis testing is a statistical method that assesses whether data supports a hypothesis. It's used to determine if a difference between\n",
        "two samples represents a real difference between the populations from which the samples were taken. Hypothesis testing uses sample data to evaluate\n",
        "a hypothesis about a population and to assess how unusual the result is.\"\"\""
      ],
      "metadata": {
        "colab": {
          "base_uri": "https://localhost:8080/",
          "height": 70
        },
        "id": "LMxzYCjpOdE2",
        "outputId": "6d481adb-1551-43b3-db4a-c7d9b012792a"
      },
      "execution_count": 3,
      "outputs": [
        {
          "output_type": "execute_result",
          "data": {
            "text/plain": [
              "\"Hypothesis testing is a statistical method that assesses whether data supports a hypothesis. It's used to determine if a difference between \\ntwo samples represents a real difference between the populations from which the samples were taken. Hypothesis testing uses sample data to evaluate \\na hypothesis about a population and to assess how unusual the result is.\""
            ],
            "application/vnd.google.colaboratory.intrinsic+json": {
              "type": "string"
            }
          },
          "metadata": {},
          "execution_count": 3
        }
      ]
    },
    {
      "cell_type": "code",
      "source": [
        "#Create a hypothesis that states whether the average weight of male college students is greater than the average weight of female college students.\n",
        "\n",
        "\"\"\" Null Hypothesis = Average weight of male college student is greater than average weight of feamle college students\n",
        "\n",
        "Alternate Hypotheis = The avg weight of male college student is not greater than average weight of female college students\"\"\""
      ],
      "metadata": {
        "colab": {
          "base_uri": "https://localhost:8080/",
          "height": 53
        },
        "id": "nIJpOdc2Oxyh",
        "outputId": "5264d768-782a-484d-a05c-8869dae8c9ef"
      },
      "execution_count": 4,
      "outputs": [
        {
          "output_type": "execute_result",
          "data": {
            "text/plain": [
              "' Null Hypothesis = Average weight of male college student is greater than average weight of feamle college students \\n\\nAlternate Hypotheis = The avg weight of male college student is not greater than average weight of female college students'"
            ],
            "application/vnd.google.colaboratory.intrinsic+json": {
              "type": "string"
            }
          },
          "metadata": {},
          "execution_count": 4
        }
      ]
    },
    {
      "cell_type": "code",
      "source": [
        "import numpy as np\n",
        "from scipy import stats\n",
        "\n",
        "def two_sample_t_test(sample1, sample2, alpha=0.05):\n",
        "    # Calculate sample statistics\n",
        "    mean1 = np.mean(sample1)\n",
        "    mean2 = np.mean(sample2)\n",
        "    std1 = np.std(sample1, ddof=1)  # ddof=1 for sample standard deviation\n",
        "    std2 = np.std(sample2, ddof=1)\n",
        "    n1 = len(sample1)\n",
        "    n2 = len(sample2)\n",
        "\n",
        "    # Calculate pooled standard deviation\n",
        "    pooled_std = np.sqrt(((n1 - 1) * std1**2 + (n2 - 1) * std2**2) / (n1 + n2 - 2))\n",
        "\n",
        "    # Calculate t-statistic\n",
        "    t_statistic = (mean1 - mean2) / (pooled_std * np.sqrt(1 / n1 + 1 / n2))\n",
        "\n",
        "    # Calculate degrees of freedom\n",
        "    degrees_of_freedom = n1 + n2 - 2\n",
        "\n",
        "    # Calculate critical t-value from t-distribution\n",
        "    critical_t_value = stats.t.ppf(1 - alpha, degrees_of_freedom)\n",
        "\n",
        "    # Calculate p-value\n",
        "    p_value = 1 - stats.t.cdf(t_statistic, degrees_of_freedom)\n",
        "\n",
        "    # Determine if the null hypothesis is rejected\n",
        "    if t_statistic > critical_t_value:\n",
        "        result = \"Reject null hypothesis\"\n",
        "    else:\n",
        "        result = \"Fail to reject null hypothesis\"\n",
        "\n",
        "    return t_statistic, p_value, result\n",
        "\n",
        "# Example usage\n",
        "sample1 = np.array([70, 72, 68, 75, 71])\n",
        "sample2 = np.array([65, 68, 66, 70, 67])\n",
        "alpha = 0.05\n",
        "\n",
        "t_statistic, p_value, result = two_sample_t_test(sample1, sample2, alpha)\n",
        "\n",
        "print(f\"T-statistic: {t_statistic}\")\n",
        "print(f\"P-value: {p_value}\")\n",
        "print(f\"Result: {result}\")\n"
      ],
      "metadata": {
        "colab": {
          "base_uri": "https://localhost:8080/"
        },
        "id": "AT3q-IoURsLh",
        "outputId": "3c52468c-6ea3-4b3c-ee9e-d76a1e15dc40"
      },
      "execution_count": 5,
      "outputs": [
        {
          "output_type": "stream",
          "name": "stdout",
          "text": [
            "T-statistic: 2.773500981126146\n",
            "P-value: 0.01208286530912206\n",
            "Result: Reject null hypothesis\n"
          ]
        }
      ]
    },
    {
      "cell_type": "code",
      "source": [
        "\"\"\"Null Hypothesis (H0) – This can be thought of as the implied hypothesis. “Null” meaning “nothing.”  This hypothesis states that there is no difference between groups or no relationship between variables. The null hypothesis is a presumption of status quo or no change.\n",
        "Alternative Hypothesis (Ha) – This is also known as the claim. This hypothesis should state what you expect the data to show, based on your research on the topic. This is your answer to your research question.\n",
        "Examples:\n",
        "\n",
        "Null Hypothesis:  H0: There is no difference in the salary of factory workers based on gender.\n",
        "Alternative Hypothesis:  Ha: Male factory workers have a higher salary than female factory workers.\n",
        "\n",
        "\n",
        "Null Hypothesis:  H0: There is no relationship between height and shoe size.\n",
        "Alternative Hypothesis:  Ha: There is a positive relationship between height and shoe size.\n",
        "\n",
        "\n",
        "Null Hypothesis:  H0: Experience on the job has no impact on the quality of a brick mason’s work.\n",
        "Alternative Hypothesis:  Ha: The quality of a brick mason’s work is influenced by on-the-job experience.\"\"\""
      ],
      "metadata": {
        "colab": {
          "base_uri": "https://localhost:8080/",
          "height": 140
        },
        "id": "hKefhjfjPhzb",
        "outputId": "9ac7c185-6901-4f1b-c236-aa70b3a8df16"
      },
      "execution_count": 6,
      "outputs": [
        {
          "output_type": "execute_result",
          "data": {
            "text/plain": [
              "'Null Hypothesis (H0) – This can be thought of as the implied hypothesis. “Null” meaning “nothing.”  This hypothesis states that there is no difference between groups or no relationship between variables. The null hypothesis is a presumption of status quo or no change.\\nAlternative Hypothesis (Ha) – This is also known as the claim. This hypothesis should state what you expect the data to show, based on your research on the topic. This is your answer to your research question.\\nExamples:\\n\\nNull Hypothesis:  H0: There is no difference in the salary of factory workers based on gender.\\nAlternative Hypothesis:  Ha: Male factory workers have a higher salary than female factory workers.\\n\\n\\nNull Hypothesis:  H0: There is no relationship between height and shoe size.\\nAlternative Hypothesis:  Ha: There is a positive relationship between height and shoe size.\\n\\n\\nNull Hypothesis:  H0: Experience on the job has no impact on the quality of a brick mason’s work.\\nAlternative Hypothesis:  Ha: The quality of a brick mason’s work is influenced by on-the-job experience.'"
            ],
            "application/vnd.google.colaboratory.intrinsic+json": {
              "type": "string"
            }
          },
          "metadata": {},
          "execution_count": 6
        }
      ]
    },
    {
      "cell_type": "code",
      "source": [
        "\"\"\"ate the null hypothesis and the alternative hypothesis. The null hypothesis is the statement that there is no difference between two groups or conditions, while the alternative hypothesis is the statement that there is a difference.\n",
        "Collect data. This data will be used to test the null hypothesis.\n",
        "Calculate the test statistic. The test statistic is a measure of how likely the data is to occur if the null hypothesis is true.\n",
        "Determine the p-value. The p-value is the probability of obtaining a test statistic as extreme or more extreme than the one that was observed, assuming that the null hypothesis is true.\n",
        "Make a decision. If the p-value is less than the significance level, then the null hypothesis is rejected. Otherwise, the null hypothesis is not rejected.\n",
        "Interpret the results. If the null hypothesis is rejected, then the researcher can conclude that there is a difference between the two groups or conditions. If the null hypothesis is not rejected, then the researcher cannot conclude that there is a difference between the two groups or conditions.\"\"\""
      ],
      "metadata": {
        "colab": {
          "base_uri": "https://localhost:8080/",
          "height": 140
        },
        "id": "OlDjE2v0SAkr",
        "outputId": "8cb32210-7d63-458e-e976-0a34ee9adba8"
      },
      "execution_count": 7,
      "outputs": [
        {
          "output_type": "execute_result",
          "data": {
            "text/plain": [
              "'ate the null hypothesis and the alternative hypothesis. The null hypothesis is the statement that there is no difference between two groups or conditions, while the alternative hypothesis is the statement that there is a difference.\\nCollect data. This data will be used to test the null hypothesis.\\nCalculate the test statistic. The test statistic is a measure of how likely the data is to occur if the null hypothesis is true.\\nDetermine the p-value. The p-value is the probability of obtaining a test statistic as extreme or more extreme than the one that was observed, assuming that the null hypothesis is true.\\nMake a decision. If the p-value is less than the significance level, then the null hypothesis is rejected. Otherwise, the null hypothesis is not rejected.\\nInterpret the results. If the null hypothesis is rejected, then the researcher can conclude that there is a difference between the two groups or conditions. If the null hypothesis is not rejected, then the researcher cannot conclude that there is a difference between the two groups or conditions.'"
            ],
            "application/vnd.google.colaboratory.intrinsic+json": {
              "type": "string"
            }
          },
          "metadata": {},
          "execution_count": 7
        }
      ]
    },
    {
      "cell_type": "code",
      "source": [
        "#Write down the steps involved in hypothesis testing.\n",
        "\n",
        "\"\"\" The p value is number calculated from a statistical test that describe how likely you are to have vfound a particular set of observationsw if the null hypothesis were true. P values are used in\n",
        "hypothesis testing to help decide wheather to recect the null hypothiesis\"\"\""
      ],
      "metadata": {
        "colab": {
          "base_uri": "https://localhost:8080/",
          "height": 53
        },
        "id": "AHOKBsfsSM1F",
        "outputId": "cf0487bb-7e8f-4f69-d79d-01a54e80483e"
      },
      "execution_count": 8,
      "outputs": [
        {
          "output_type": "execute_result",
          "data": {
            "text/plain": [
              "' The p value is number calculated from a statistical test that describe how likely you are to have vfound a particular set of observationsw if the null hypothesis were true. P values are used in\\nhypothesis testing to help decide wheather to recect the null hypothiesis'"
            ],
            "application/vnd.google.colaboratory.intrinsic+json": {
              "type": "string"
            }
          },
          "metadata": {},
          "execution_count": 8
        }
      ]
    },
    {
      "cell_type": "code",
      "source": [
        "#Generate a Student's t-distribution plot using Python's matplotlib library, with the degrees of freedom parameter set to 10.\n",
        "\n",
        "\n",
        "import matplotlib.pyplot as plt\n",
        "from scipy.stats import t\n",
        "import numpy as np\n",
        "\n",
        "\n",
        "df = 10\n",
        "x = np.linspace(-4, 4, 1000)\n",
        "pdf = t.pdf(x, df)\n",
        "\n",
        "\n",
        "plt.figure(figsize=(8,6))\n",
        "plt.plot(x,pdf,label = \"t-distribution \")\n",
        "\n",
        "plt.xlabel = \"x\"\n",
        "plt.ylabel = \" pdf \"\n",
        "plt.title = \" t - distribution \"\n",
        "\n",
        "plt.legend()\n",
        "\n",
        "\n",
        "plt.grid(True)\n",
        "plt.show()"
      ],
      "metadata": {
        "colab": {
          "base_uri": "https://localhost:8080/",
          "height": 522
        },
        "id": "sp580bWvSvU2",
        "outputId": "d54b551d-aacf-4b86-ea9d-2de4f3f717c9"
      },
      "execution_count": 24,
      "outputs": [
        {
          "output_type": "display_data",
          "data": {
            "text/plain": [
              "<Figure size 800x600 with 1 Axes>"
            ],
            "image/png": "[encoded data removed]"
          },
          "metadata": {}
        }
      ]
    },
    {
      "cell_type": "code",
      "source": [
        "#Write a Python program to calculate the two-sample t-test for independent samples, given two\n",
        "# random samples of equal size and a null hypothesis that the population means are equal.\n",
        "\n",
        "\n",
        "import numpy as np\n",
        "from scipy import stats\n",
        "\n",
        "def two_sample_t_test(sample1, sample2, alpha=0.05):\n",
        "    # Calculate sample statistics\n",
        "    mean1 = np.mean(sample1)\n",
        "    mean2 = np.mean(sample2)\n",
        "    std1 = np.std(sample1, ddof=1)  # ddof=1 for sample standard deviation\n",
        "    std2 = np.std(sample2, ddof=1)\n",
        "    n1 = len(sample1)\n",
        "    n2 = len(sample2)\n",
        "\n",
        "    # Calculate pooled standard deviation\n",
        "    pooled_std = np.sqrt(((n1 - 1) * std1**2 + (n2 - 1) * std2**2) / (n1 + n2 - 2))\n",
        "\n",
        "    # Calculate t-statistic\n",
        "    t_statistic = (mean1 - mean2) / (pooled_std * np.sqrt(1 / n1 + 1 / n2))\n",
        "\n",
        "    # Calculate degrees of freedom\n",
        "    degrees_of_freedom = n1 + n2 - 2\n",
        "\n",
        "    # Calculate critical t-value from t-distribution\n",
        "    critical_t_value = stats.t.ppf(1 - alpha, degrees_of_freedom)\n",
        "\n",
        "    # Calculate p-value\n",
        "    p_value = 2 * (1 - stats.t.cdf(np.abs(t_statistic), degrees_of_freedom))\n",
        "\n",
        "    # Determine if the null hypothesis is rejected\n",
        "    if np.abs(t_statistic) > critical_t_value:\n",
        "        result = \"Reject null hypothesis\"\n",
        "    else:\n",
        "        result = \"Fail to reject null hypothesis\"\n",
        "\n",
        "    return t_statistic, p_value, result\n",
        "\n",
        "# Generate two random samples of equal size\n",
        "np.random.seed(0)\n",
        "sample_size = 50\n",
        "sample1 = np.random.normal(loc=50, scale=10, size=sample_size)\n",
        "sample2 = np.random.normal(loc=45, scale=12, size=sample_size)\n",
        "alpha = 0.05\n",
        "\n",
        "# Perform the two-sample t-test\n",
        "t_statistic, p_value, result = two_sample_t_test(sample1, sample2, alpha)\n",
        "\n",
        "print(f\"T-statistic: {t_statistic}\")\n",
        "print(f\"P-value: {p_value}\")\n",
        "print(f\"Result: {result}\")\n"
      ],
      "metadata": {
        "colab": {
          "base_uri": "https://localhost:8080/"
        },
        "id": "9Or48VuZTI3N",
        "outputId": "8f45b925-b315-40c9-e34b-056c9db5d6b4"
      },
      "execution_count": 28,
      "outputs": [
        {
          "output_type": "stream",
          "name": "stdout",
          "text": [
            "T-statistic: 3.040126149974434\n",
            "P-value: 0.0030329583281398786\n",
            "Result: Reject null hypothesis\n"
          ]
        }
      ]
    },
    {
      "cell_type": "code",
      "source": [
        "#What is Student’s t distribution? When to use the t-Distribution.\n",
        "\n",
        "\"\"\"Student's t-distribution, is a type of probability distribution that is similar to the normal distribution with its bell shape but has heavier tails.\n",
        "It is used for estimating population parameters for small sample sizes or unknown variances\"\"\""
      ],
      "metadata": {
        "colab": {
          "base_uri": "https://localhost:8080/",
          "height": 53
        },
        "id": "9PrXqLorWtA1",
        "outputId": "aa83a92d-0cdc-4efc-d57a-a4cd3d24bd90"
      },
      "execution_count": 29,
      "outputs": [
        {
          "output_type": "execute_result",
          "data": {
            "text/plain": [
              "\"Student's t-distribution, is a type of probability distribution that is similar to the normal distribution with its bell shape but has heavier tails. \\nIt is used for estimating population parameters for small sample sizes or unknown variances\""
            ],
            "application/vnd.google.colaboratory.intrinsic+json": {
              "type": "string"
            }
          },
          "metadata": {},
          "execution_count": 29
        }
      ]
    },
    {
      "cell_type": "code",
      "source": [
        "\"\"\"t-statistic is the ratio of the difference in a number's estimated value from its assumed value to its standard error. It is used in hypothesis testing via Student's t-test. The t-statistic is used in a t-test to determine whether to support or reject the null hypothesis\"\"\"\n",
        "\n",
        "#t = M – µ Sx"
      ],
      "metadata": {
        "colab": {
          "base_uri": "https://localhost:8080/",
          "height": 53
        },
        "id": "cpknpz-Ja007",
        "outputId": "42b4cb22-31cb-4c71-af72-f171ca0f8bdc"
      },
      "execution_count": 30,
      "outputs": [
        {
          "output_type": "execute_result",
          "data": {
            "text/plain": [
              "\"t-statistic is the ratio of the difference in a number's estimated value from its assumed value to its standard error. It is used in hypothesis testing via Student's t-test. The t-statistic is used in a t-test to determine whether to support or reject the null hypothesis\""
            ],
            "application/vnd.google.colaboratory.intrinsic+json": {
              "type": "string"
            }
          },
          "metadata": {},
          "execution_count": 30
        }
      ]
    },
    {
      "cell_type": "code",
      "source": [
        "import numpy as np\n",
        "from scipy.stats import t\n",
        "\n",
        "# Given data\n",
        "sample_mean = 500\n",
        "sample_std_dev = 50\n",
        "sample_size = 50\n",
        "confidence_level = 0.95\n",
        "\n",
        "# Calculate the critical value from the t-distribution\n",
        "degrees_of_freedom = sample_size - 1\n",
        "critical_value = t.ppf((1 + confidence_level) / 2, degrees_of_freedom)\n",
        "\n",
        "# Calculate the margin of error\n",
        "margin_of_error = critical_value * (sample_std_dev / np.sqrt(sample_size))\n",
        "\n",
        "# Calculate the lower and upper bounds of the confidence interval\n",
        "lower_bound = sample_mean - margin_of_error\n",
        "upper_bound = sample_mean + margin_of_error\n",
        "\n",
        "# Print the results\n",
        "print(f\"Estimated population mean revenue: ${sample_mean} +/- ${margin_of_error} (95% confidence interval)\")\n",
        "print(f\"Lower bound: ${lower_bound}, Upper bound: ${upper_bound}\")\n"
      ],
      "metadata": {
        "colab": {
          "base_uri": "https://localhost:8080/"
        },
        "id": "NNjzrjF8bMs7",
        "outputId": "0b0b685b-44a5-4408-b48f-7b9859ed9397"
      },
      "execution_count": 31,
      "outputs": [
        {
          "output_type": "stream",
          "name": "stdout",
          "text": [
            "Estimated population mean revenue: $500 +/- $14.209842756118658 (95% confidence interval)\n",
            "Lower bound: $485.79015724388137, Upper bound: $514.2098427561186\n"
          ]
        }
      ]
    },
    {
      "cell_type": "code",
      "source": [
        "import numpy as np\n",
        "from scipy.stats import t\n",
        "\n",
        "# Given data\n",
        "sample_mean = 8  # Sample mean decrease in blood pressure (mmHg)\n",
        "population_mean = 10  # Hypothesized population mean decrease (mmHg)\n",
        "sample_std_dev = 3  # Sample standard deviation (mmHg)\n",
        "sample_size = 100  # Sample size\n",
        "alpha = 0.05  # Significance level\n",
        "\n",
        "# Calculate the t-statistic\n",
        "t_statistic = (sample_mean - population_mean) / (sample_std_dev / np.sqrt(sample_size))\n",
        "\n",
        "# Calculate the critical t-value from the t-distribution\n",
        "degrees_of_freedom = sample_size - 1\n",
        "critical_t_value = t.ppf(alpha, degrees_of_freedom)\n",
        "\n",
        "# Determine if the null hypothesis is rejected\n",
        "if t_statistic < critical_t_value:\n",
        "    result = \"Reject null hypothesis: The new drug significantly decreases blood pressure.\"\n",
        "else:\n",
        "    result = \"Fail to reject null hypothesis: There is no significant decrease in blood pressure with the new drug.\"\n",
        "\n",
        "print(f\"T-statistic: {t_statistic}\")\n",
        "print(f\"Critical t-value: {critical_t_value}\")\n",
        "print(f\"Result: {result}\")\n"
      ],
      "metadata": {
        "colab": {
          "base_uri": "https://localhost:8080/"
        },
        "id": "6UQjOWkOexQu",
        "outputId": "f8e27a87-0050-4180-930d-440c2070946c"
      },
      "execution_count": 32,
      "outputs": [
        {
          "output_type": "stream",
          "name": "stdout",
          "text": [
            "T-statistic: -6.666666666666667\n",
            "Critical t-value: -1.6603911559963902\n",
            "Result: Reject null hypothesis: The new drug significantly decreases blood pressure.\n"
          ]
        }
      ]
    },
    {
      "cell_type": "code",
      "source": [
        "import numpy as np\n",
        "from scipy.stats import t\n",
        "\n",
        "# Given data\n",
        "sample_mean = 4.8  # Sample mean weight (lbs)\n",
        "population_mean = 5  # Hypothesized population mean weight (lbs)\n",
        "sample_std_dev = 0.5  # Sample standard deviation (lbs)\n",
        "sample_size = 25  # Sample size\n",
        "alpha = 0.01  # Significance level\n",
        "\n",
        "# Calculate the t-statistic\n",
        "t_statistic = (sample_mean - population_mean) / (sample_std_dev / np.sqrt(sample_size))\n",
        "\n",
        "# Calculate the critical t-value from the t-distribution\n",
        "degrees_of_freedom = sample_size - 1\n",
        "critical_t_value = t.ppf(alpha, degrees_of_freedom)\n",
        "\n",
        "# Determine if the null hypothesis is rejected\n",
        "if t_statistic < critical_t_value:\n",
        "    result = \"Reject null hypothesis: The true mean weight is less than 5 pounds.\"\n",
        "else:\n",
        "    result = \"Fail to reject null hypothesis: There is no evidence that the true mean weight is less than 5 pounds.\"\n",
        "\n",
        "print(f\"T-statistic: {t_statistic}\")\n",
        "print(f\"Critical t-value: {critical_t_value}\")\n",
        "print(f\"Result: {result}\")\n",
        "\n"
      ],
      "metadata": {
        "colab": {
          "base_uri": "https://localhost:8080/"
        },
        "id": "gl1uUAbdqox4",
        "outputId": "54ace493-3dd3-4359-a6ac-11f9e86de64f"
      },
      "execution_count": 41,
      "outputs": [
        {
          "output_type": "stream",
          "name": "stdout",
          "text": [
            "T-statistic: -2.0000000000000018\n",
            "Critical t-value: -2.4921594731575762\n",
            "Result: Fail to reject null hypothesis: There is no evidence that the true mean weight is less than 5 pounds.\n"
          ]
        }
      ]
    },
    {
      "cell_type": "code",
      "source": [
        "import numpy as np\n",
        "from scipy.stats import t\n",
        "\n",
        "# Given data\n",
        "mean1 = 80\n",
        "std_dev1 = 10\n",
        "n1 = 30\n",
        "\n",
        "mean2 = 75\n",
        "std_dev2 = 8\n",
        "n2 = 40\n",
        "\n",
        "alpha = 0.01\n",
        "\n",
        "# Calculate the t-statistic\n",
        "t_statistic = (mean1 - mean2) / np.sqrt((std_dev1**2 / n1) + (std_dev2**2 / n2))\n",
        "\n",
        "# Calculate degrees of freedom\n",
        "degrees_of_freedom = min(n1 - 1, n2 - 1)\n",
        "\n",
        "# Calculate critical t-values\n",
        "critical_t_value = t.ppf(1 - alpha/2, degrees_of_freedom)  # for a two-tailed test\n",
        "\n",
        "# Determine if the null hypothesis is rejected\n",
        "if abs(t_statistic) > critical_t_value:\n",
        "    result = \"Reject null hypothesis: The population means for the two groups are not equal.\"\n",
        "else:\n",
        "    result = \"Fail to reject null hypothesis: The population means for the two groups are equal.\"\n",
        "\n",
        "print(f\"T-statistic: {t_statistic}\")\n",
        "print(f\"Critical t-value: {critical_t_value}\")\n",
        "print(f\"Result: {result}\")\n"
      ],
      "metadata": {
        "colab": {
          "base_uri": "https://localhost:8080/"
        },
        "id": "lSHtXCW3s98w",
        "outputId": "48dfef95-b464-41cd-b535-994a8dee002c"
      },
      "execution_count": 42,
      "outputs": [
        {
          "output_type": "stream",
          "name": "stdout",
          "text": [
            "T-statistic: 2.2511258444537408\n",
            "Critical t-value: 2.756385903670335\n",
            "Result: Fail to reject null hypothesis: The population means for the two groups are equal.\n"
          ]
        }
      ]
    },
    {
      "cell_type": "code",
      "source": [
        "import numpy as np\n",
        "from scipy.stats import norm\n",
        "\n",
        "# Given data\n",
        "sample_mean = 4\n",
        "sample_std_dev = 1.5\n",
        "sample_size = 50\n",
        "confidence_level = 0.99\n",
        "\n",
        "# Calculate the critical value from the z-distribution\n",
        "critical_value = norm.ppf((1 + confidence_level) / 2)\n",
        "\n",
        "# Calculate the margin of error\n",
        "margin_of_error = critical_value * (sample_std_dev / np.sqrt(sample_size))\n",
        "\n",
        "# Calculate the lower and upper bounds of the confidence interval\n",
        "lower_bound = sample_mean - margin_of_error\n",
        "upper_bound = sample_mean + margin_of_error\n",
        "\n",
        "# Print the results\n",
        "print(f\"Estimated population mean: {sample_mean} +/- {margin_of_error} (99% confidence interval)\")\n",
        "print(f\"Lower bound: {lower_bound}, Upper bound: {upper_bound}\")\n"
      ],
      "metadata": {
        "colab": {
          "base_uri": "https://localhost:8080/"
        },
        "id": "pTKT6cfev597",
        "outputId": "332422ec-cd27-438b-e761-eeffeda6d5c0"
      },
      "execution_count": 43,
      "outputs": [
        {
          "output_type": "stream",
          "name": "stdout",
          "text": [
            "Estimated population mean: 4 +/- 0.5464159103155348 (99% confidence interval)\n",
            "Lower bound: 3.4535840896844654, Upper bound: 4.546415910315535\n"
          ]
        }
      ]
    },
    {
      "cell_type": "code",
      "source": [],
      "metadata": {
        "id": "9EDQbwq5wUEb"
      },
      "execution_count": null,
      "outputs": []
    }
  ]
}