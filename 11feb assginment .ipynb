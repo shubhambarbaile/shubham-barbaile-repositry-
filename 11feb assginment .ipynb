{
 "cells": [
  {
   "cell_type": "code",
   "execution_count": 1,
   "id": "05493792-df5d-4d74-a0e1-773565ad899c",
   "metadata": {},
   "outputs": [],
   "source": [
    "# EXCEPTION IS THE EVENT THAT ACCURS IN THE EXECUTION OF THE PROGRAM THAT DISTURB THE NORMAL FLOW OF THE PRORAMME\n",
    "#An error is an issue in a program that prevents the program from completing its task. In comparison, \n",
    "#an exception is a condition that interrupts the normal flow of the program."
   ]
  },
  {
   "cell_type": "code",
   "execution_count": 2,
   "id": "d4a8bd3f-f18f-4562-9678-40ee3bb5dd56",
   "metadata": {},
   "outputs": [
    {
     "ename": "ZeroDivisionError",
     "evalue": "division by zero",
     "output_type": "error",
     "traceback": [
      "\u001b[0;31m---------------------------------------------------------------------------\u001b[0m",
      "\u001b[0;31mZeroDivisionError\u001b[0m                         Traceback (most recent call last)",
      "Cell \u001b[0;32mIn[2], line 4\u001b[0m\n\u001b[1;32m      2\u001b[0m A \u001b[38;5;241m=\u001b[39m \u001b[38;5;241m5\u001b[39m \n\u001b[1;32m      3\u001b[0m B \u001b[38;5;241m=\u001b[39m \u001b[38;5;241m0\u001b[39m\n\u001b[0;32m----> 4\u001b[0m \u001b[38;5;28mprint\u001b[39m(\u001b[43mA\u001b[49m\u001b[38;5;241;43m/\u001b[39;49m\u001b[43mB\u001b[49m)\n",
      "\u001b[0;31mZeroDivisionError\u001b[0m: division by zero"
     ]
    }
   ],
   "source": [
    "# IF THE EXCEPTION IS NOT HANDELED THEN IT WILL STOP THE FLOW OF THE PROGRAME OR INTURREP THE PROGRAM.\n",
    "A = 5 \n",
    "B = 0\n",
    "print(A/B)"
   ]
  },
  {
   "cell_type": "code",
   "execution_count": 3,
   "id": "2bcdc771-8809-407d-a3e2-7aad0544c34f",
   "metadata": {},
   "outputs": [
    {
     "name": "stdout",
     "output_type": "stream",
     "text": [
      "cannot be divided by zero\n"
     ]
    }
   ],
   "source": [
    "# TRY AND EXCEPT STATMENTS ARE USED FOR CATCH AND HANDLE EXCEPTION \n",
    "try:\n",
    "    A = 5\n",
    "    B = 0\n",
    "    print(A/B)\n",
    "except:\n",
    "    print(\"cannot be divided by zero\")"
   ]
  },
  {
   "cell_type": "code",
   "execution_count": 6,
   "id": "19865a80-ebb6-47fc-85c0-de7675193db2",
   "metadata": {},
   "outputs": [
    {
     "name": "stdin",
     "output_type": "stream",
     "text": [
      "enter any number 2\n"
     ]
    },
    {
     "name": "stdout",
     "output_type": "stream",
     "text": [
      "its a even number\n",
      "0.5\n"
     ]
    }
   ],
   "source": [
    "try:\n",
    "    a = int(input(\"enter any number\"))\n",
    "    if a % 2 == 0:\n",
    "        print(\"its a even number\")\n",
    "except:\n",
    "    print(\"not a even number\")\n",
    "else:\n",
    "    resiprocal = 1/a\n",
    "    print(resiprocal)\n"
   ]
  },
  {
   "cell_type": "code",
   "execution_count": 5,
   "id": "fc38f302-de2c-4dce-aaea-398a62c05a00",
   "metadata": {},
   "outputs": [
    {
     "name": "stdin",
     "output_type": "stream",
     "text": [
      "enter any number 25\n"
     ]
    },
    {
     "name": "stdout",
     "output_type": "stream",
     "text": [
      "its a number\n"
     ]
    }
   ],
   "source": [
    "try:\n",
    "    a = int(input(\"enter any number\"))\n",
    "    if a % 2 == 0:\n",
    "        print(\"its a even number\")\n",
    "except:\n",
    "    print(\"not a even number\")\n",
    "finally:\n",
    "    print(\"its a number\")"
   ]
  },
  {
   "cell_type": "code",
   "execution_count": 40,
   "id": "91cf8b91-e828-452e-848a-1a076c85f8e0",
   "metadata": {},
   "outputs": [],
   "source": [
    "class shubham():\n",
    "    \n",
    "    \n",
    "    def __init__(self,number):\n",
    "        self.number = number "
   ]
  },
  {
   "cell_type": "code",
   "execution_count": 41,
   "id": "40d647cd-80c3-4a15-babc-1be8389a0010",
   "metadata": {},
   "outputs": [],
   "source": [
    "def shubham(number):\n",
    "    if number > 10:\n",
    "        raise shubham(\"its a wrong number\")\n",
    "    elif number < 10:\n",
    "        raise shubham(\"its a wrong number with extra digit\")\n",
    "    else:\n",
    "        print(\"the number is correct\")"
   ]
  },
  {
   "cell_type": "code",
   "execution_count": 42,
   "id": "195a302f-816e-44c1-80ce-e4c3d36feac9",
   "metadata": {},
   "outputs": [
    {
     "name": "stdin",
     "output_type": "stream",
     "text": [
      "enter the number 18\n"
     ]
    },
    {
     "ename": "TypeError",
     "evalue": "'>' not supported between instances of 'str' and 'int'",
     "output_type": "error",
     "traceback": [
      "\u001b[0;31m---------------------------------------------------------------------------\u001b[0m",
      "\u001b[0;31mTypeError\u001b[0m                                 Traceback (most recent call last)",
      "Cell \u001b[0;32mIn[42], line 3\u001b[0m\n\u001b[1;32m      2\u001b[0m     number \u001b[38;5;241m=\u001b[39m \u001b[38;5;28mint\u001b[39m(\u001b[38;5;28minput\u001b[39m(\u001b[38;5;124m\"\u001b[39m\u001b[38;5;124menter the number\u001b[39m\u001b[38;5;124m\"\u001b[39m))\n\u001b[0;32m----> 3\u001b[0m     \u001b[43mshubham\u001b[49m\u001b[43m(\u001b[49m\u001b[43mnumber\u001b[49m\u001b[43m)\u001b[49m\n\u001b[1;32m      4\u001b[0m \u001b[38;5;28;01mexcept\u001b[39;00m shubham(number) \u001b[38;5;28;01mas\u001b[39;00m b:\n",
      "Cell \u001b[0;32mIn[41], line 3\u001b[0m, in \u001b[0;36mshubham\u001b[0;34m(number)\u001b[0m\n\u001b[1;32m      2\u001b[0m \u001b[38;5;28;01mif\u001b[39;00m number \u001b[38;5;241m>\u001b[39m \u001b[38;5;241m10\u001b[39m:\n\u001b[0;32m----> 3\u001b[0m     \u001b[38;5;28;01mraise\u001b[39;00m \u001b[43mshubham\u001b[49m\u001b[43m(\u001b[49m\u001b[38;5;124;43m\"\u001b[39;49m\u001b[38;5;124;43mits a wrong number\u001b[39;49m\u001b[38;5;124;43m\"\u001b[39;49m\u001b[43m)\u001b[49m\n\u001b[1;32m      4\u001b[0m \u001b[38;5;28;01melif\u001b[39;00m number \u001b[38;5;241m<\u001b[39m \u001b[38;5;241m10\u001b[39m:\n",
      "Cell \u001b[0;32mIn[41], line 2\u001b[0m, in \u001b[0;36mshubham\u001b[0;34m(number)\u001b[0m\n\u001b[1;32m      1\u001b[0m \u001b[38;5;28;01mdef\u001b[39;00m \u001b[38;5;21mshubham\u001b[39m(number):\n\u001b[0;32m----> 2\u001b[0m     \u001b[38;5;28;01mif\u001b[39;00m \u001b[43mnumber\u001b[49m\u001b[43m \u001b[49m\u001b[38;5;241;43m>\u001b[39;49m\u001b[43m \u001b[49m\u001b[38;5;241;43m10\u001b[39;49m:\n\u001b[1;32m      3\u001b[0m         \u001b[38;5;28;01mraise\u001b[39;00m shubham(\u001b[38;5;124m\"\u001b[39m\u001b[38;5;124mits a wrong number\u001b[39m\u001b[38;5;124m\"\u001b[39m)\n",
      "\u001b[0;31mTypeError\u001b[0m: '>' not supported between instances of 'str' and 'int'",
      "\nDuring handling of the above exception, another exception occurred:\n",
      "\u001b[0;31mTypeError\u001b[0m                                 Traceback (most recent call last)",
      "Cell \u001b[0;32mIn[42], line 4\u001b[0m\n\u001b[1;32m      2\u001b[0m     number \u001b[38;5;241m=\u001b[39m \u001b[38;5;28mint\u001b[39m(\u001b[38;5;28minput\u001b[39m(\u001b[38;5;124m\"\u001b[39m\u001b[38;5;124menter the number\u001b[39m\u001b[38;5;124m\"\u001b[39m))\n\u001b[1;32m      3\u001b[0m     shubham(number)\n\u001b[0;32m----> 4\u001b[0m \u001b[38;5;28;01mexcept\u001b[39;00m \u001b[43mshubham\u001b[49m\u001b[43m(\u001b[49m\u001b[43mnumber\u001b[49m\u001b[43m)\u001b[49m \u001b[38;5;28;01mas\u001b[39;00m b:\n\u001b[1;32m      5\u001b[0m     \u001b[38;5;28mprint\u001b[39m(b)\n",
      "Cell \u001b[0;32mIn[41], line 3\u001b[0m, in \u001b[0;36mshubham\u001b[0;34m(number)\u001b[0m\n\u001b[1;32m      1\u001b[0m \u001b[38;5;28;01mdef\u001b[39;00m \u001b[38;5;21mshubham\u001b[39m(number):\n\u001b[1;32m      2\u001b[0m     \u001b[38;5;28;01mif\u001b[39;00m number \u001b[38;5;241m>\u001b[39m \u001b[38;5;241m10\u001b[39m:\n\u001b[0;32m----> 3\u001b[0m         \u001b[38;5;28;01mraise\u001b[39;00m \u001b[43mshubham\u001b[49m\u001b[43m(\u001b[49m\u001b[38;5;124;43m\"\u001b[39;49m\u001b[38;5;124;43mits a wrong number\u001b[39;49m\u001b[38;5;124;43m\"\u001b[39;49m\u001b[43m)\u001b[49m\n\u001b[1;32m      4\u001b[0m     \u001b[38;5;28;01melif\u001b[39;00m number \u001b[38;5;241m<\u001b[39m \u001b[38;5;241m10\u001b[39m:\n\u001b[1;32m      5\u001b[0m         \u001b[38;5;28;01mraise\u001b[39;00m shubham(\u001b[38;5;124m\"\u001b[39m\u001b[38;5;124mits a wrong number with extra digit\u001b[39m\u001b[38;5;124m\"\u001b[39m)\n",
      "Cell \u001b[0;32mIn[41], line 2\u001b[0m, in \u001b[0;36mshubham\u001b[0;34m(number)\u001b[0m\n\u001b[1;32m      1\u001b[0m \u001b[38;5;28;01mdef\u001b[39;00m \u001b[38;5;21mshubham\u001b[39m(number):\n\u001b[0;32m----> 2\u001b[0m     \u001b[38;5;28;01mif\u001b[39;00m \u001b[43mnumber\u001b[49m\u001b[43m \u001b[49m\u001b[38;5;241;43m>\u001b[39;49m\u001b[43m \u001b[49m\u001b[38;5;241;43m10\u001b[39;49m:\n\u001b[1;32m      3\u001b[0m         \u001b[38;5;28;01mraise\u001b[39;00m shubham(\u001b[38;5;124m\"\u001b[39m\u001b[38;5;124mits a wrong number\u001b[39m\u001b[38;5;124m\"\u001b[39m)\n\u001b[1;32m      4\u001b[0m     \u001b[38;5;28;01melif\u001b[39;00m number \u001b[38;5;241m<\u001b[39m \u001b[38;5;241m10\u001b[39m:\n",
      "\u001b[0;31mTypeError\u001b[0m: '>' not supported between instances of 'str' and 'int'"
     ]
    }
   ],
   "source": [
    "try:\n",
    "    number = int(input(\"enter the number\"))\n",
    "    shubham(number)\n",
    "except shubham(number) as b:\n",
    "    print(b)\n",
    "    "
   ]
  },
  {
   "cell_type": "code",
   "execution_count": null,
   "id": "c8c4fc9d-8446-4262-badd-fb6989a7eff9",
   "metadata": {},
   "outputs": [],
   "source": []
  }
 ],
 "metadata": {
  "kernelspec": {
   "display_name": "Python 3 (ipykernel)",
   "language": "python",
   "name": "python3"
  },
  "language_info": {
   "codemirror_mode": {
    "name": "ipython",
    "version": 3
   },
   "file_extension": ".py",
   "mimetype": "text/x-python",
   "name": "python",
   "nbconvert_exporter": "python",
   "pygments_lexer": "ipython3",
   "version": "3.10.8"
  }
 },
 "nbformat": 4,
 "nbformat_minor": 5
}
