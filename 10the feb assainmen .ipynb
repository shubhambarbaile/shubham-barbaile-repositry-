{
 "cells": [
  {
   "cell_type": "code",
   "execution_count": null,
   "id": "d58d16ed-f451-4a1c-a98a-97af109bc9f2",
   "metadata": {},
   "outputs": [],
   "source": [
    "# OPEN() IS THE FUCNTION IS MAINLY USED TO CREATE A FILE OR OPEN A FILE\n",
    "# THERE ARE DIFFRENT MODES OF OPENING A FILE \n",
    "# r = OPENS A FILE FOR READING\n",
    "# w = opens A FILE FOR WRITING, OR CREATES A FILE IF DOES NOT EXIST , TRUNCATE THE FILE IF IT ALREADY EXISTS. \n",
    "# x = OPENS A FILE FOR EXLUSIVE CREATION. IF THE FILE IS ALREADY EXIST THE OPERATIONS GET FAILED.\n",
    "# a = OPEN A FILE FOR APPENDING AT THE END OF THE FILE WITHOUT TRUNCING IT. CREATES A FILE IF IT DOESNOT EXIST.\n",
    "# t = OPEN IN TEXT MODE \n",
    "# b = OPEN IN BINARY MODE\n",
    "# + = OPEN A FILE FOR UPDATING "
   ]
  },
  {
   "cell_type": "code",
   "execution_count": 1,
   "id": "ffbea74c-d958-463e-bd1c-f7e87a9b3836",
   "metadata": {},
   "outputs": [],
   "source": [
    "# CLOSE() FUNCTION IS USED FOR CLOSING THE FILE \n",
    "# CLOSING A FILE AFTER USE IS IMPORTANT AFTER USE BECAUSE IT FREES UP THE SYSTEM RESOURSES TTHAT ARE BEING USED."
   ]
  },
  {
   "cell_type": "code",
   "execution_count": 19,
   "id": "287300de-c11a-4b73-9e9a-4cf563590c18",
   "metadata": {},
   "outputs": [],
   "source": [
    "ab = open(\"text.txt\",'w')"
   ]
  },
  {
   "cell_type": "code",
   "execution_count": 20,
   "id": "9e527bdc-7805-43b8-b238-da6971557330",
   "metadata": {},
   "outputs": [
    {
     "data": {
      "text/plain": [
       "33"
      ]
     },
     "execution_count": 20,
     "metadata": {},
     "output_type": "execute_result"
    }
   ],
   "source": [
    "ab.write(\"i want to became a data scientist\")"
   ]
  },
  {
   "cell_type": "code",
   "execution_count": 24,
   "id": "d616bc3a-c84e-42b8-a10b-cddaafaae15c",
   "metadata": {},
   "outputs": [],
   "source": [
    "ab.close()"
   ]
  },
  {
   "cell_type": "code",
   "execution_count": 25,
   "id": "76e667f3-9786-4bf2-a398-47dbc8d89e3e",
   "metadata": {},
   "outputs": [],
   "source": [
    "ab = open(\"text.txt\",'r')"
   ]
  },
  {
   "cell_type": "code",
   "execution_count": 26,
   "id": "38491d9f-d6c4-464e-906d-e0a2702d7c58",
   "metadata": {},
   "outputs": [
    {
     "data": {
      "text/plain": [
       "'i want to became a data scientist'"
      ]
     },
     "execution_count": 26,
     "metadata": {},
     "output_type": "execute_result"
    }
   ],
   "source": [
    "ab.read()"
   ]
  },
  {
   "cell_type": "code",
   "execution_count": 28,
   "id": "b784bcad-7598-41ed-9b39-860fb36d17e3",
   "metadata": {},
   "outputs": [
    {
     "data": {
      "text/plain": [
       "<function TextIOWrapper.close()>"
      ]
     },
     "execution_count": 28,
     "metadata": {},
     "output_type": "execute_result"
    }
   ],
   "source": [
    "ab.close"
   ]
  },
  {
   "cell_type": "code",
   "execution_count": 29,
   "id": "4296bd1b-533c-404b-90d5-99e6558bbc44",
   "metadata": {},
   "outputs": [],
   "source": [
    "# read() = READ IS MODE FOR OPEN FILE FUNCTION AND IT USED FOR OPENING A FILE IN READING MODE \n",
    "# readline() = READLINE IS THE METHODE USED FOR RETURNING A LIST CONTAING EACH LINE AS A FILE IN A LIST\n",
    "# readlins() = READLINE IS THE METHOD USED FOR RETURNING A LIST CONSISTING EACH LINE"
   ]
  },
  {
   "cell_type": "code",
   "execution_count": null,
   "id": "8723e804-876b-44ba-bd49-3a6405587bb2",
   "metadata": {},
   "outputs": [],
   "source": [
    "# OPEN() IS USED FOR OPENING A FILE OR CREATING A FILE THAT DONT EXISTS IN THE DATABASE.\n",
    "# helps us read and write to the file without being worried about closing it"
   ]
  },
  {
   "cell_type": "code",
   "execution_count": null,
   "id": "4ee77c33-d42c-4ad3-a61d-a73eac43b042",
   "metadata": {},
   "outputs": [],
   "source": [
    "# write()  = IS USED FOR WRINTING INTO THE FILE.\n",
    "# writelines() = IS USED FOR WRINTING THE ITES IN THE LIST IN THE FILE"
   ]
  },
  {
   "cell_type": "code",
   "execution_count": 30,
   "id": "d2b9cd19-a808-459e-ad8e-0e0aa470aabf",
   "metadata": {},
   "outputs": [],
   "source": [
    "AB = open(\"text.txt\",'w')"
   ]
  },
  {
   "cell_type": "code",
   "execution_count": 32,
   "id": "e0c3cfdf-7f09-4c90-a59c-702506c26673",
   "metadata": {},
   "outputs": [
    {
     "data": {
      "text/plain": [
       "29"
      ]
     },
     "execution_count": 32,
     "metadata": {},
     "output_type": "execute_result"
    }
   ],
   "source": [
    "AB.write(\"this is the item for the file\")"
   ]
  },
  {
   "cell_type": "code",
   "execution_count": 33,
   "id": "c1279e49-d55a-4d13-a5e8-7fd6546ee450",
   "metadata": {},
   "outputs": [
    {
     "ename": "AttributeError",
     "evalue": "'_io.TextIOWrapper' object has no attribute 'writelins'",
     "output_type": "error",
     "traceback": [
      "\u001b[0;31m---------------------------------------------------------------------------\u001b[0m",
      "\u001b[0;31mAttributeError\u001b[0m                            Traceback (most recent call last)",
      "Cell \u001b[0;32mIn[33], line 1\u001b[0m\n\u001b[0;32m----> 1\u001b[0m \u001b[43mAB\u001b[49m\u001b[38;5;241;43m.\u001b[39;49m\u001b[43mwritelins\u001b[49m([\u001b[38;5;124m\"\u001b[39m\u001b[38;5;124mthis is the item for testing for writelines\u001b[39m\u001b[38;5;124m\"\u001b[39m])\n",
      "\u001b[0;31mAttributeError\u001b[0m: '_io.TextIOWrapper' object has no attribute 'writelins'"
     ]
    }
   ],
   "source": [
    "AB.writelins([\"this is the item for testing for writelines\"])"
   ]
  },
  {
   "cell_type": "code",
   "execution_count": null,
   "id": "ba18e8cf-9889-4258-939a-dc4c8fe233f5",
   "metadata": {},
   "outputs": [],
   "source": []
  }
 ],
 "metadata": {
  "kernelspec": {
   "display_name": "Python 3 (ipykernel)",
   "language": "python",
   "name": "python3"
  },
  "language_info": {
   "codemirror_mode": {
    "name": "ipython",
    "version": 3
   },
   "file_extension": ".py",
   "mimetype": "text/x-python",
   "name": "python",
   "nbconvert_exporter": "python",
   "pygments_lexer": "ipython3",
   "version": "3.10.8"
  }
 },
 "nbformat": 4,
 "nbformat_minor": 5
}
