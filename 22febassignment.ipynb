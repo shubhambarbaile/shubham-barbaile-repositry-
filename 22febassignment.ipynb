{
 "cells": [
  {
   "cell_type": "code",
   "execution_count": 1,
   "id": "ef745b12-e86e-453a-8a01-db2adfbea8dc",
   "metadata": {},
   "outputs": [],
   "source": [
    "import pandas as pd"
   ]
  },
  {
   "cell_type": "code",
   "execution_count": 2,
   "id": "63319bec-a833-4c1f-9af2-ab06e995f660",
   "metadata": {},
   "outputs": [],
   "source": [
    "#Create a Pandas Series that contains the following data: 4, 8, 15, 16, 23, and 42. Then, print the series."
   ]
  },
  {
   "cell_type": "code",
   "execution_count": 3,
   "id": "3f7602cf-3edc-4fa3-9072-487460eda2b7",
   "metadata": {},
   "outputs": [],
   "source": [
    "data = [4,8,15,16,23,42]\n",
    "df = pd.Series(data)"
   ]
  },
  {
   "cell_type": "code",
   "execution_count": 4,
   "id": "e25dacb2-4d12-4309-9e8d-b16701323208",
   "metadata": {},
   "outputs": [
    {
     "data": {
      "text/plain": [
       "0     4\n",
       "1     8\n",
       "2    15\n",
       "3    16\n",
       "4    23\n",
       "5    42\n",
       "dtype: int64"
      ]
     },
     "execution_count": 4,
     "metadata": {},
     "output_type": "execute_result"
    }
   ],
   "source": [
    "df"
   ]
  },
  {
   "cell_type": "code",
   "execution_count": 5,
   "id": "ca135890-d801-4cb6-a040-8223ddcf8c45",
   "metadata": {},
   "outputs": [
    {
     "data": {
      "text/plain": [
       "pandas.core.series.Series"
      ]
     },
     "execution_count": 5,
     "metadata": {},
     "output_type": "execute_result"
    }
   ],
   "source": [
    "type(df)"
   ]
  },
  {
   "cell_type": "code",
   "execution_count": 6,
   "id": "b7a83f35-6e49-4594-87ad-a894032c48e7",
   "metadata": {},
   "outputs": [],
   "source": [
    "variable = [15,'ssjs',2.5,'adib',525,52,98,954,45]\n",
    "df = pd.Series(variable)"
   ]
  },
  {
   "cell_type": "code",
   "execution_count": 7,
   "id": "e20304ab-93ad-4937-8c57-c194873860b2",
   "metadata": {},
   "outputs": [
    {
     "data": {
      "text/plain": [
       "0      15\n",
       "1    ssjs\n",
       "2     2.5\n",
       "3    adib\n",
       "4     525\n",
       "5      52\n",
       "6      98\n",
       "7     954\n",
       "8      45\n",
       "dtype: object"
      ]
     },
     "execution_count": 7,
     "metadata": {},
     "output_type": "execute_result"
    }
   ],
   "source": [
    "df"
   ]
  },
  {
   "cell_type": "code",
   "execution_count": 8,
   "id": "12f3f336-1aaf-4905-a246-a32b6d7bf9b2",
   "metadata": {},
   "outputs": [],
   "source": [
    "# 3 question \n",
    "\n",
    "\n",
    "data = {\n",
    "    'Name': ['Alice', 'Bob', 'Claire'],\n",
    "    'Age': [25, 30, 27],\n",
    "    'Gender': ['Female', 'Male', 'Female']}\n",
    "df = pd.DataFrame(data)"
   ]
  },
  {
   "cell_type": "code",
   "execution_count": 9,
   "id": "06f7b34e-c80f-4585-b911-5b94e3a3968e",
   "metadata": {},
   "outputs": [
    {
     "data": {
      "text/html": [
       "<div>\n",
       "<style scoped>\n",
       "    .dataframe tbody tr th:only-of-type {\n",
       "        vertical-align: middle;\n",
       "    }\n",
       "\n",
       "    .dataframe tbody tr th {\n",
       "        vertical-align: top;\n",
       "    }\n",
       "\n",
       "    .dataframe thead th {\n",
       "        text-align: right;\n",
       "    }\n",
       "</style>\n",
       "<table border=\"1\" class=\"dataframe\">\n",
       "  <thead>\n",
       "    <tr style=\"text-align: right;\">\n",
       "      <th></th>\n",
       "      <th>Name</th>\n",
       "      <th>Age</th>\n",
       "      <th>Gender</th>\n",
       "    </tr>\n",
       "  </thead>\n",
       "  <tbody>\n",
       "    <tr>\n",
       "      <th>0</th>\n",
       "      <td>Alice</td>\n",
       "      <td>25</td>\n",
       "      <td>Female</td>\n",
       "    </tr>\n",
       "    <tr>\n",
       "      <th>1</th>\n",
       "      <td>Bob</td>\n",
       "      <td>30</td>\n",
       "      <td>Male</td>\n",
       "    </tr>\n",
       "    <tr>\n",
       "      <th>2</th>\n",
       "      <td>Claire</td>\n",
       "      <td>27</td>\n",
       "      <td>Female</td>\n",
       "    </tr>\n",
       "  </tbody>\n",
       "</table>\n",
       "</div>"
      ],
      "text/plain": [
       "     Name  Age  Gender\n",
       "0   Alice   25  Female\n",
       "1     Bob   30    Male\n",
       "2  Claire   27  Female"
      ]
     },
     "execution_count": 9,
     "metadata": {},
     "output_type": "execute_result"
    }
   ],
   "source": [
    "df"
   ]
  },
  {
   "cell_type": "code",
   "execution_count": 10,
   "id": "139760cf-7c6a-4a3b-a21e-13e8f33acc91",
   "metadata": {},
   "outputs": [],
   "source": [
    "#4 question "
   ]
  },
  {
   "cell_type": "code",
   "execution_count": 11,
   "id": "115ad2a9-e2a4-41b9-b1a0-3059566e6070",
   "metadata": {},
   "outputs": [
    {
     "ename": "SyntaxError",
     "evalue": "invalid syntax (3529283106.py, line 1)",
     "output_type": "error",
     "traceback": [
      "\u001b[0;36m  Cell \u001b[0;32mIn[11], line 1\u001b[0;36m\u001b[0m\n\u001b[0;31m    A Pandas DataFrame is a 2 dimensional data structure, like a 2 dimensional array, or a table with rows and columns.\u001b[0m\n\u001b[0m      ^\u001b[0m\n\u001b[0;31mSyntaxError\u001b[0m\u001b[0;31m:\u001b[0m invalid syntax\n"
     ]
    }
   ],
   "source": [
    "A Pandas DataFrame is a 2 dimensional data structure, like a 2 dimensional array, or a table with rows and columns.\n",
    "A Pandas Series is like a column in a table."
   ]
  },
  {
   "cell_type": "code",
   "execution_count": 12,
   "id": "f6565d9e-b85b-4b8a-8053-77b9180c1da2",
   "metadata": {},
   "outputs": [
    {
     "ename": "NameError",
     "evalue": "name 'Mutable' is not defined",
     "output_type": "error",
     "traceback": [
      "\u001b[0;31m---------------------------------------------------------------------------\u001b[0m",
      "\u001b[0;31mNameError\u001b[0m                                 Traceback (most recent call last)",
      "Cell \u001b[0;32mIn[12], line 2\u001b[0m\n\u001b[1;32m      1\u001b[0m \u001b[38;5;66;03m# 5 question \u001b[39;00m\n\u001b[0;32m----> 2\u001b[0m Series \u001b[38;5;241m=\u001b[39m \u001b[43mMutable\u001b[49m\n\u001b[1;32m      4\u001b[0m Dataframe  \u001b[38;5;241m=\u001b[39m Mutable\n\u001b[1;32m      5\u001b[0m Panel \u001b[38;5;241m=\u001b[39m Mutable\n",
      "\u001b[0;31mNameError\u001b[0m: name 'Mutable' is not defined"
     ]
    }
   ],
   "source": [
    "# 5 question \n",
    "Series = Mutable\n",
    "\n",
    "Dataframe  = Mutable\n",
    "Panel = Mutable"
   ]
  },
  {
   "cell_type": "code",
   "execution_count": 15,
   "id": "2fa54a68-036d-48c2-bab9-7e4512ad2bea",
   "metadata": {},
   "outputs": [],
   "source": [
    "# 6 question \n",
    "import pandas as pd \n",
    "name = pd.Series(['shubham','pranjal','sanket'])\n",
    "weight = pd.Series([67,55,60])\n",
    "height = pd.Series([5.11,5.6,6.1])\n",
    "data = {'name':name,\n",
    "        'weight':weight,\n",
    "        'height':height}\n",
    "df = pd.DataFrame(data)\n",
    "\n",
    "\n"
   ]
  },
  {
   "cell_type": "code",
   "execution_count": 16,
   "id": "bf61ab6c-d818-4afc-9c49-1f8d8763f689",
   "metadata": {},
   "outputs": [
    {
     "data": {
      "text/html": [
       "<div>\n",
       "<style scoped>\n",
       "    .dataframe tbody tr th:only-of-type {\n",
       "        vertical-align: middle;\n",
       "    }\n",
       "\n",
       "    .dataframe tbody tr th {\n",
       "        vertical-align: top;\n",
       "    }\n",
       "\n",
       "    .dataframe thead th {\n",
       "        text-align: right;\n",
       "    }\n",
       "</style>\n",
       "<table border=\"1\" class=\"dataframe\">\n",
       "  <thead>\n",
       "    <tr style=\"text-align: right;\">\n",
       "      <th></th>\n",
       "      <th>name</th>\n",
       "      <th>weight</th>\n",
       "      <th>height</th>\n",
       "    </tr>\n",
       "  </thead>\n",
       "  <tbody>\n",
       "    <tr>\n",
       "      <th>0</th>\n",
       "      <td>shubham</td>\n",
       "      <td>67</td>\n",
       "      <td>5.11</td>\n",
       "    </tr>\n",
       "    <tr>\n",
       "      <th>1</th>\n",
       "      <td>pranjal</td>\n",
       "      <td>55</td>\n",
       "      <td>5.60</td>\n",
       "    </tr>\n",
       "    <tr>\n",
       "      <th>2</th>\n",
       "      <td>sanket</td>\n",
       "      <td>60</td>\n",
       "      <td>6.10</td>\n",
       "    </tr>\n",
       "  </tbody>\n",
       "</table>\n",
       "</div>"
      ],
      "text/plain": [
       "      name  weight  height\n",
       "0  shubham      67    5.11\n",
       "1  pranjal      55    5.60\n",
       "2   sanket      60    6.10"
      ]
     },
     "execution_count": 16,
     "metadata": {},
     "output_type": "execute_result"
    }
   ],
   "source": [
    "df"
   ]
  },
  {
   "cell_type": "code",
   "execution_count": null,
   "id": "9e85a492-f9bf-43f7-960e-5a5e89e2809a",
   "metadata": {},
   "outputs": [],
   "source": [
    "#7 question \n",
    "there are multiple function we can use in pandas to manipulate the data \n",
    "ex = pd.Dataframe() we can use this funtion to create a dataframe\n",
    "df['clnname'] = by using this funciton we can create a new column in data frame \n",
    "df.columns it will give the name of the columns in the data frame \n",
    "df"
   ]
  }
 ],
 "metadata": {
  "kernelspec": {
   "display_name": "Python 3 (ipykernel)",
   "language": "python",
   "name": "python3"
  },
  "language_info": {
   "codemirror_mode": {
    "name": "ipython",
    "version": 3
   },
   "file_extension": ".py",
   "mimetype": "text/x-python",
   "name": "python",
   "nbconvert_exporter": "python",
   "pygments_lexer": "ipython3",
   "version": "3.10.8"
  }
 },
 "nbformat": 4,
 "nbformat_minor": 5
}
