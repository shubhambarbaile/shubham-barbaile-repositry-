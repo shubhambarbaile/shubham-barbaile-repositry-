{
 "cells": [
  {
   "cell_type": "code",
   "execution_count": 1,
   "id": "109513e4-2778-459c-989e-a7d548b0fee0",
   "metadata": {},
   "outputs": [
    {
     "data": {
      "text/plain": [
       "\"Data encoding is the process of converting raw data into a binary format that can be read and interpreted by an algorithm.\\nIt's a key technique in data science that allows for the effective use and communication of information digitally\""
      ]
     },
     "execution_count": 1,
     "metadata": {},
     "output_type": "execute_result"
    }
   ],
   "source": [
    "#What is data encoding? How is it useful in data science?\n",
    "\n",
    "\"\"\"Data encoding is the process of converting raw data into a binary format that can be read and interpreted by an algorithm.\n",
    "It's a key technique in data science that allows for the effective use and communication of information digitally\"\"\""
   ]
  },
  {
   "cell_type": "code",
   "execution_count": 2,
   "id": "38bf5e57-4e04-48eb-8c59-9e99351cfcbb",
   "metadata": {},
   "outputs": [
    {
     "data": {
      "text/plain": [
       "'If we start encoding categories from 0,1,2 to all the categories, then the machine learning algorithm will give \\nimportance to 2 (more than 0 and 1), which will not be true as the data is nominal and will have no intrinsic order.'"
      ]
     },
     "execution_count": 2,
     "metadata": {},
     "output_type": "execute_result"
    }
   ],
   "source": [
    "#What is nominal encoding? Provide an example of how you would use it in a real-world scenario.\n",
    "\n",
    "\"\"\"If we start encoding categories from 0,1,2 to all the categories, then the machine learning algorithm will give \n",
    "importance to 2 (more than 0 and 1), which will not be true as the data is nominal and will have no intrinsic order.\"\"\""
   ]
  },
  {
   "cell_type": "code",
   "execution_count": 3,
   "id": "6b8ababe-eabb-455f-8614-cbda927045db",
   "metadata": {},
   "outputs": [
    {
     "data": {
      "text/plain": [
       "'\\nNominal encoding is preferred over one-hot encoding in situations where the categorical variables have a large number \\nof unique categories and the presence of many categories could lead to high-dimensional sparse data, which can be \\ncomputationally expensive to process and may lead to overfitting in machine learning models. Nominal encoding reduces \\nthe dimensionality of the data by assigning a unique integer or code to each category, which can be more efficient \\nand practical in such cases'"
      ]
     },
     "execution_count": 3,
     "metadata": {},
     "output_type": "execute_result"
    }
   ],
   "source": [
    "#In what situations is nominal encoding preferred over one-hot encoding? Provide a practical example.\n",
    "\n",
    "\"\"\"\n",
    "Nominal encoding is preferred over one-hot encoding in situations where the categorical variables have a large number \n",
    "of unique categories and the presence of many categories could lead to high-dimensional sparse data, which can be \n",
    "computationally expensive to process and may lead to overfitting in machine learning models. Nominal encoding reduces \n",
    "the dimensionality of the data by assigning a unique integer or code to each category, which can be more efficient \n",
    "and practical in such cases\"\"\""
   ]
  },
  {
   "cell_type": "code",
   "execution_count": 4,
   "id": "e4379107-e782-4632-b37a-96ed400d0c1c",
   "metadata": {},
   "outputs": [
    {
     "data": {
      "text/plain": [
       "'Based on these considerations, if the categorical variable is nominal with 5 unique values and the machine learning\\nalgorithm can handle one-hot encoded data efficiently, then one-hot encoding would be a suitable choice to transform \\nthe data into a format suitable for machine learning algorithms.'"
      ]
     },
     "execution_count": 4,
     "metadata": {},
     "output_type": "execute_result"
    }
   ],
   "source": [
    "#Suppose you have a dataset containing categorical data with 5 unique values. Which encoding\n",
    "#technique would you use to transform this data into a format suitable for machine learning algorithms?\n",
    "#Explain why you made this choice.\n",
    "\n",
    "\n",
    "\"\"\"Based on these considerations, if the categorical variable is nominal with 5 unique values and the machine learning\n",
    "algorithm can handle one-hot encoded data efficiently, then one-hot encoding would be a suitable choice to transform \n",
    "the data into a format suitable for machine learning algorithms.\"\"\""
   ]
  },
  {
   "cell_type": "code",
   "execution_count": 5,
   "id": "e847f91f-9a46-40cb-8bc1-380e7ae7c4dc",
   "metadata": {},
   "outputs": [
    {
     "data": {
      "text/plain": [
       "' in the given machine learning project with a dataset of 1000 rows and 5 columns, if nominal encoding is used to transform the two categorical columns, \\n2 new columns will be created after encoding.'"
      ]
     },
     "execution_count": 5,
     "metadata": {},
     "output_type": "execute_result"
    }
   ],
   "source": [
    "#In a machine learning project, you have a dataset with 1000 rows and 5 columns. Two of the columns\n",
    "#are categorical, and the remaining three columns are numerical. If you were to use nominal encoding to\n",
    "#transform the categorical data, how many new columns would be created? Show your calculations.\n",
    "\n",
    "\n",
    "\"\"\" in the given machine learning project with a dataset of 1000 rows and 5 columns, if nominal encoding is used to transform the two categorical columns, \n",
    "2 new columns will be created after encoding.\"\"\"\n",
    "\n",
    "\n",
    "\n",
    "\n",
    "\n"
   ]
  },
  {
   "cell_type": "code",
   "execution_count": 6,
   "id": "05335c6f-282a-41a5-a4a7-23016fa03b94",
   "metadata": {},
   "outputs": [
    {
     "data": {
      "text/plain": [
       "'Given the information about species, habitat, and diet in the dataset, if these categorical variables do not \\nhave a clear order or hierarchy, one-hot encoding would be the preferred technique. One-hot encoding ensures that \\neach category within a variable is represented as a separate binary feature, which is useful for machine learning \\nalgorithms that treat categorical variables as independent dimensions. This approach prevents the algorithm from\\nassuming any ordinal relationship between categories and allows for more flexible modeling of the data'"
      ]
     },
     "execution_count": 6,
     "metadata": {},
     "output_type": "execute_result"
    }
   ],
   "source": [
    "#You are working with a dataset containing information about different types of animals, including their\n",
    "#species, habitat, and diet. Which encoding technique would you use to transform the categorical data into\n",
    "#a format suitable for machine learning algorithms? Justify your answer.\n",
    "\n",
    "\n",
    "\"\"\"Given the information about species, habitat, and diet in the dataset, if these categorical variables do not \n",
    "have a clear order or hierarchy, one-hot encoding would be the preferred technique. One-hot encoding ensures that \n",
    "each category within a variable is represented as a separate binary feature, which is useful for machine learning \n",
    "algorithms that treat categorical variables as independent dimensions. This approach prevents the algorithm from\n",
    "assuming any ordinal relationship between categories and allows for more flexible modeling of the data\"\"\""
   ]
  },
  {
   "cell_type": "code",
   "execution_count": 7,
   "id": "0fe7f11d-f2e9-48fd-b6a1-3c5d93f16fb1",
   "metadata": {},
   "outputs": [
    {
     "name": "stderr",
     "output_type": "stream",
     "text": [
      "/opt/conda/lib/python3.10/site-packages/sklearn/preprocessing/_encoders.py:808: FutureWarning: `sparse` was renamed to `sparse_output` in version 1.2 and will be removed in 1.4. `sparse_output` is ignored unless you leave `sparse` to its default value.\n",
      "  warnings.warn(\n"
     ]
    },
    {
     "ename": "AttributeError",
     "evalue": "'OneHotEncoder' object has no attribute 'get_feature_names'",
     "output_type": "error",
     "traceback": [
      "\u001b[0;31m---------------------------------------------------------------------------\u001b[0m",
      "\u001b[0;31mAttributeError\u001b[0m                            Traceback (most recent call last)",
      "Cell \u001b[0;32mIn[7], line 21\u001b[0m\n\u001b[1;32m     19\u001b[0m encoder \u001b[38;5;241m=\u001b[39m OneHotEncoder(sparse\u001b[38;5;241m=\u001b[39m\u001b[38;5;28;01mFalse\u001b[39;00m)\n\u001b[1;32m     20\u001b[0m contract_type_encoded \u001b[38;5;241m=\u001b[39m encoder\u001b[38;5;241m.\u001b[39mfit_transform(df[[\u001b[38;5;124m'\u001b[39m\u001b[38;5;124mcontract_type\u001b[39m\u001b[38;5;124m'\u001b[39m]])\n\u001b[0;32m---> 21\u001b[0m contract_type_columns \u001b[38;5;241m=\u001b[39m \u001b[43mencoder\u001b[49m\u001b[38;5;241;43m.\u001b[39;49m\u001b[43mget_feature_names\u001b[49m([\u001b[38;5;124m'\u001b[39m\u001b[38;5;124mcontract_type\u001b[39m\u001b[38;5;124m'\u001b[39m])\n\u001b[1;32m     22\u001b[0m contract_type_df \u001b[38;5;241m=\u001b[39m pd\u001b[38;5;241m.\u001b[39mDataFrame(contract_type_encoded, columns\u001b[38;5;241m=\u001b[39mcontract_type_columns)\n\u001b[1;32m     23\u001b[0m df \u001b[38;5;241m=\u001b[39m pd\u001b[38;5;241m.\u001b[39mconcat([df, contract_type_df], axis\u001b[38;5;241m=\u001b[39m\u001b[38;5;241m1\u001b[39m)\n",
      "\u001b[0;31mAttributeError\u001b[0m: 'OneHotEncoder' object has no attribute 'get_feature_names'"
     ]
    }
   ],
   "source": [
    "import pandas as pd\n",
    "from sklearn.preprocessing import OneHotEncoder\n",
    "\n",
    "# Sample data (replace with your actual dataset)\n",
    "data = {\n",
    "    'gender': ['male', 'female', 'female', 'male'],\n",
    "    'contract_type': ['month-to-month', 'one-year', 'two-year', 'month-to-month'],\n",
    "    'age': [30, 40, 25, 35],\n",
    "    'monthly_charges': [50.0, 70.0, 60.0, 55.0],\n",
    "    'tenure': [6, 12, 3, 8]\n",
    "}\n",
    "\n",
    "df = pd.DataFrame(data)\n",
    "\n",
    "# Binary Encoding for gender\n",
    "df['gender_encoded'] = df['gender'].map({'male': 0, 'female': 1})\n",
    "\n",
    "# One-Hot Encoding for contract type\n",
    "encoder = OneHotEncoder(sparse=False)\n",
    "contract_type_encoded = encoder.fit_transform(df[['contract_type']])\n",
    "contract_type_columns = encoder.get_feature_names(['contract_type'])\n",
    "contract_type_df = pd.DataFrame(contract_type_encoded, columns=contract_type_columns)\n",
    "df = pd.concat([df, contract_type_df], axis=1)\n",
    "\n",
    "# Drop the original categorical columns\n",
    "df.drop(['gender', 'contract_type'], axis=1, inplace=True)\n",
    "\n",
    "# Final encoded dataset\n",
    "print(df)\n"
   ]
  },
  {
   "cell_type": "code",
   "execution_count": null,
   "id": "779e38d6-7c66-4502-a864-0b7468e55865",
   "metadata": {},
   "outputs": [],
   "source": []
  }
 ],
 "metadata": {
  "kernelspec": {
   "display_name": "Python 3 (ipykernel)",
   "language": "python",
   "name": "python3"
  },
  "language_info": {
   "codemirror_mode": {
    "name": "ipython",
    "version": 3
   },
   "file_extension": ".py",
   "mimetype": "text/x-python",
   "name": "python",
   "nbconvert_exporter": "python",
   "pygments_lexer": "ipython3",
   "version": "3.10.8"
  }
 },
 "nbformat": 4,
 "nbformat_minor": 5
}
