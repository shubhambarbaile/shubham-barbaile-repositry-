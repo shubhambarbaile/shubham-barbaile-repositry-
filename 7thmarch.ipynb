{
 "cells": [
  {
   "cell_type": "code",
   "execution_count": 1,
   "id": "50efc81a-9412-48de-b226-4e70c926c237",
   "metadata": {},
   "outputs": [
    {
     "data": {
      "text/plain": [
       "'statistics is the science of collecting oranising and analysing the data.'"
      ]
     },
     "execution_count": 1,
     "metadata": {},
     "output_type": "execute_result"
    }
   ],
   "source": [
    "#What is Statistics?\n",
    "\n",
    "\"statistics is the science of collecting oranising and analysing the data.\"\"\""
   ]
  },
  {
   "cell_type": "code",
   "execution_count": 2,
   "id": "41f1857d-a206-457d-a845-98c72a6ea67a",
   "metadata": {},
   "outputs": [
    {
     "data": {
      "text/plain": [
       "'1) Descriptive statistics - it is used for oranising and summerising the data. \\nex = heights of the students in the class. \\n\\n2) Inferential statistics - It uses the data to form a conclusion\\nex - Exit pole of election '"
      ]
     },
     "execution_count": 2,
     "metadata": {},
     "output_type": "execute_result"
    }
   ],
   "source": [
    "#Define the different types of statistics and give an example of when each type might be used.\n",
    "\n",
    "\"\"\"1) Descriptive statistics - it is used for oranising and summerising the data. \n",
    "ex = heights of the students in the class. \n",
    "\n",
    "2) Inferential statistics - It uses the data to form a conclusion\n",
    "ex - Exit pole of election \"\"\""
   ]
  },
  {
   "cell_type": "code",
   "execution_count": 4,
   "id": "e6d8467a-9d2e-4351-9100-e3c2bacf7e8b",
   "metadata": {},
   "outputs": [
    {
     "data": {
      "text/plain": [
       "'Quantitative and qualitative are the types of data \\n\\nQuantitative data consist of numerical value , ex - height,weight,no of students.\\n\\nQualitative data are consist of catagorical data , ex - gender,material status,'"
      ]
     },
     "execution_count": 4,
     "metadata": {},
     "output_type": "execute_result"
    }
   ],
   "source": [
    "#What are the different types of data and how do they differ from each other? Provide an example of each type of data\n",
    "\n",
    "\"\"\"Quantitative and qualitative are the types of data \n",
    "\n",
    "Quantitative data consist of numerical value , ex - height,weight,no of students.\n",
    "\n",
    "Qualitative data are consist of catagorical data , ex - gender,material status,\"\"\""
   ]
  },
  {
   "cell_type": "code",
   "execution_count": 5,
   "id": "10296b19-ae20-4292-af2b-ddf14bdcecfc",
   "metadata": {},
   "outputs": [
    {
     "data": {
      "text/plain": [
       "' Grading in exam: A+, A, B+, B, C+, C, D, E = qualitative data type \\n\\nColour of mangoes: yellow, green, orange, red = qualitative data type \\n\\nHeight data of a class: [178.9, 179, 179.5, 176, 177.2, 178.3, 175.8,...] = quantitative data type \\n\\nNumber of mangoes exported by a farm: [500, 600, 478, 672, ...] = quantitative data type '"
      ]
     },
     "execution_count": 5,
     "metadata": {},
     "output_type": "execute_result"
    }
   ],
   "source": [
    "\"\"\" Grading in exam: A+, A, B+, B, C+, C, D, E = qualitative data type \n",
    "\n",
    "Colour of mangoes: yellow, green, orange, red = qualitative data type \n",
    "\n",
    "Height data of a class: [178.9, 179, 179.5, 176, 177.2, 178.3, 175.8,...] = quantitative data type \n",
    "\n",
    "Number of mangoes exported by a farm: [500, 600, 478, 672, ...] = quantitative data type \"\"\""
   ]
  },
  {
   "cell_type": "code",
   "execution_count": 7,
   "id": "7dec1ae7-0c2a-490b-95af-fb6521213972",
   "metadata": {},
   "outputs": [
    {
     "data": {
      "text/plain": [
       "' nominal = the data type only be categorized , ex = gender,colour \\n\\nodinal = the data that can be categorized and ranked , ex = feedback \\n\\n\\ninterval  = the data that can be castegorized ranked and evenly spaced , ex = temp \\n\\nratio = the data can be categorized ranked evenly spaced has a natural zero ex = marks, timing '"
      ]
     },
     "execution_count": 7,
     "metadata": {},
     "output_type": "execute_result"
    }
   ],
   "source": [
    "#Explain the concept of levels of measurement and give an example of a variable for each level.\n",
    "\n",
    "\"\"\" nominal = the data type only be categorized , ex = gender,colour \n",
    "\n",
    "odinal = the data that can be categorized and ranked , ex = feedback \n",
    "\n",
    "\n",
    "interval  = the data that can be castegorized ranked and evenly spaced , ex = temp \n",
    "\n",
    "ratio = the data can be categorized ranked evenly spaced has a natural zero ex = marks, timing \"\"\""
   ]
  },
  {
   "cell_type": "code",
   "execution_count": 8,
   "id": "e8adf91e-c186-444f-96c5-bc374eac7f93",
   "metadata": {},
   "outputs": [
    {
     "data": {
      "text/plain": [
       "'Why is it important to understand the level of measurement when analyzing data? Provide an\\nexample to illustrate your answer.\\n\\n\\n\\nIt is important to understand the level of measurement of variables in research, because the leverl of measuremnet determines the types of staistic analysis that can be conducted. so we can make the conclusion '"
      ]
     },
     "execution_count": 8,
     "metadata": {},
     "output_type": "execute_result"
    }
   ],
   "source": [
    "\"\"\"Why is it important to understand the level of measurement when analyzing data? Provide an\n",
    "example to illustrate your answer.\n",
    "\n",
    "\n",
    "\n",
    "It is important to understand the level of measurement of variables in research, because the leverl of measuremnet determines the types of staistic analysis that can be conducted. so we can make the conclusion \"\"\""
   ]
  },
  {
   "cell_type": "code",
   "execution_count": 11,
   "id": "dcb2b43b-3c93-4acc-8399-f84fe83c2399",
   "metadata": {},
   "outputs": [
    {
     "data": {
      "text/plain": [
       "'Both nominal data type and odinal data type are the sub type of qualitative data  nominal is the type of data which is only\\ncatagorized. Odinal is the type of data which is catagorized and also ranked. '"
      ]
     },
     "execution_count": 11,
     "metadata": {},
     "output_type": "execute_result"
    }
   ],
   "source": [
    "#How nominal data type is different from ordinal data type.\n",
    "\n",
    "\"\"\"Both nominal data type and odinal data type are the sub type of qualitative data  nominal is the type of data which is only\n",
    "catagorized. Odinal is the type of data which is catagorized and also ranked. \"\"\""
   ]
  },
  {
   "cell_type": "code",
   "execution_count": 12,
   "id": "71b23942-e704-415f-ab72-1bbcfb97f458",
   "metadata": {},
   "outputs": [
    {
     "data": {
      "text/plain": [
       "'Histogram is used to display the range '"
      ]
     },
     "execution_count": 12,
     "metadata": {},
     "output_type": "execute_result"
    }
   ],
   "source": [
    "#Q8. Which type of plot can be used to display data in terms of range?\n",
    "\n",
    "\"\"\"Histogram is used to display the range \"\"\""
   ]
  },
  {
   "cell_type": "code",
   "execution_count": 13,
   "id": "e085e5e8-99eb-4e01-83f2-6eb16fbd830f",
   "metadata": {},
   "outputs": [
    {
     "data": {
      "text/plain": [
       "' decriptive stastics is used to summerize the data \\nex = avg height of the class\\n\\n\\ninferential stastics used the data to make the conclusion \\n\\nex = exit pole of the election '"
      ]
     },
     "execution_count": 13,
     "metadata": {},
     "output_type": "execute_result"
    }
   ],
   "source": [
    "#Describe the difference between descriptive and inferential statistics. Give an example of each type of statistics and explain how they are used.\n",
    "\n",
    "\"\"\" decriptive stastics is used to summerize the data \n",
    "ex = avg height of the class\n",
    "\n",
    "\n",
    "inferential stastics used the data to make the conclusion \n",
    "\n",
    "ex = exit pole of the election \"\"\""
   ]
  },
  {
   "cell_type": "code",
   "execution_count": 14,
   "id": "073a280f-b084-414c-a5c1-97619644754f",
   "metadata": {},
   "outputs": [
    {
     "data": {
      "text/plain": [
       "'Central tendency measures represent the middle or center of a set of data values, while variability measures describe \\nhow spread out the data points are. The three most common measures of central tendency are the mean, median, and mode'"
      ]
     },
     "execution_count": 14,
     "metadata": {},
     "output_type": "execute_result"
    }
   ],
   "source": [
    "#What are some common measures of central tendency and variability used in statistics? Explain how each measure can be used to describe a dataset.\n",
    "\n",
    "\"\"\"Central tendency measures represent the middle or center of a set of data values, while variability measures describe \n",
    "how spread out the data points are. The three most common measures of central tendency are the mean, median, and mode\"\"\""
   ]
  },
  {
   "cell_type": "code",
   "execution_count": null,
   "id": "23f1d7a5-86f2-497f-bab3-e82ead55a0e7",
   "metadata": {},
   "outputs": [],
   "source": []
  }
 ],
 "metadata": {
  "kernelspec": {
   "display_name": "Python 3 (ipykernel)",
   "language": "python",
   "name": "python3"
  },
  "language_info": {
   "codemirror_mode": {
    "name": "ipython",
    "version": 3
   },
   "file_extension": ".py",
   "mimetype": "text/x-python",
   "name": "python",
   "nbconvert_exporter": "python",
   "pygments_lexer": "ipython3",
   "version": "3.10.8"
  }
 },
 "nbformat": 4,
 "nbformat_minor": 5
}
