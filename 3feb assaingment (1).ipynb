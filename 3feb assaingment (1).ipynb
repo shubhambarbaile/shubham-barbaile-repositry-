{
 "cells": [
  {
   "cell_type": "code",
   "execution_count": 3,
   "id": "ce3785eb-04bf-4b0b-8e9b-75451a7886a5",
   "metadata": {},
   "outputs": [
    {
     "name": "stdout",
     "output_type": "stream",
     "text": [
      "[1, 3, 5, 7, 9, 11, 13, 15, 17, 19, 21, 23, 25]\n"
     ]
    }
   ],
   "source": [
    "#Which keyword is used to create a function? Create a function to return a list of odd numbers in the \n",
    "#range of 1 to 25.\n",
    "\n",
    "#def keyword is used to create a function.\n",
    "def num():\n",
    "    b =[]\n",
    "    for i in range(1,26):\n",
    "        if i % 2 != 0:\n",
    "            b.append(i)\n",
    "    return(b)\n",
    "print(num())\n",
    "            \n",
    "\n",
    "            "
   ]
  },
  {
   "cell_type": "code",
   "execution_count": 6,
   "id": "ba20165c-2ba4-421a-b93e-f864184918e9",
   "metadata": {},
   "outputs": [
    {
     "name": "stdout",
     "output_type": "stream",
     "text": [
      "26\n",
      "first == Geeks\n",
      "mid == for\n",
      "last == Geeks\n"
     ]
    }
   ],
   "source": [
    "#2\n",
    "# By using *args we can use multiple number of arguments in the function \n",
    "# by using **kwargs we can use key value pair of arguments in the function \n",
    "def a(*args):\n",
    "    tot = 0 \n",
    "    for i in args:\n",
    "        tot += i\n",
    "    return tot \n",
    "\n",
    "print(a(2,3,4,5,6,6))\n",
    "\n",
    "\n",
    "def myFun(**kwargs):\n",
    "\tfor key, value in kwargs.items():\n",
    "\t\tprint(\"%s == %s\" % (key, value))\n",
    "\n",
    "\n",
    "# Driver code\n",
    "myFun(first='Geeks', mid='for', last='Geeks')\n"
   ]
  },
  {
   "cell_type": "code",
   "execution_count": 9,
   "id": "ec4b67a8-09b5-4304-8726-861fb79b3a71",
   "metadata": {},
   "outputs": [
    {
     "data": {
      "text/plain": [
       "'Iter() method is used to initialize the iterator object so that the instance of this object can be used for iterating.'"
      ]
     },
     "execution_count": 9,
     "metadata": {},
     "output_type": "execute_result"
    }
   ],
   "source": [
    "\"\"\"An iterator in Python is an object that contains a countable number of elements that can be iterated upon. \n",
    "In simpler words, we can say that Iterators are objects that allow you to traverse through all the elements of a \n",
    "collection and return one element at a time.\"\"\"\n",
    "\n",
    "\"\"\"Iter() method is used to initialize the iterator object so that the instance of this object can be used for iterating.\"\"\"\n",
    "\n"
   ]
  },
  {
   "cell_type": "code",
   "execution_count": 10,
   "id": "1e110aeb-01bd-4308-86a8-581f399e14b9",
   "metadata": {},
   "outputs": [
    {
     "name": "stdout",
     "output_type": "stream",
     "text": [
      "2\n",
      "4\n",
      "6\n",
      "8\n",
      "10\n"
     ]
    }
   ],
   "source": [
    "a = [2, 4, 6, 8, 10, 12, 14,16, 18, 20]\n",
    "b = iter(a)\n",
    "count = 0 \n",
    "while count < 5:\n",
    "    if count >= len(a):\n",
    "        break \n",
    "    c = next(b)\n",
    "    print(c)\n",
    "    \n",
    "    count = count+1\n",
    "    \n",
    "    "
   ]
  },
  {
   "cell_type": "code",
   "execution_count": 11,
   "id": "fc2d4de0-7837-41d9-99b8-c05f66580a15",
   "metadata": {},
   "outputs": [
    {
     "name": "stdout",
     "output_type": "stream",
     "text": [
      "5\n",
      "4\n",
      "3\n",
      "2\n",
      "1\n"
     ]
    }
   ],
   "source": [
    "\"\"\"generator function allows you to declare a function that behaves like an iterator, providing a faster and easier\n",
    "way to create iterators.\n",
    "\n",
    "yield keyword is used to create a generator function. A type of function that is memory efficient and can be used \n",
    "like an iterator object.\"\"\"\n",
    "\n",
    "def countdown(n):\n",
    "    while n > 0:\n",
    "        yield n\n",
    "        n -= 1\n",
    "\n",
    "# Create a generator object\n",
    "my_generator = countdown(5)\n",
    "\n",
    "# Iterate through the generator using a for loop\n",
    "for num in my_generator:\n",
    "    print(num)\n",
    "\n"
   ]
  },
  {
   "cell_type": "code",
   "execution_count": 3,
   "id": "0c89cd47-19b1-45c3-bdad-1d493f1f2835",
   "metadata": {},
   "outputs": [
    {
     "name": "stdout",
     "output_type": "stream",
     "text": [
      "0\n",
      "1\n",
      "1\n",
      "2\n",
      "3\n",
      "5\n",
      "8\n",
      "13\n",
      "21\n",
      "34\n"
     ]
    }
   ],
   "source": [
    "a,b = 0,1\n",
    "count = 0 \n",
    "while count <10:\n",
    "    print(a)\n",
    "    a,b = b,a+b\n",
    "    count = count +1\n",
    "    \n",
    "    \n"
   ]
  },
  {
   "cell_type": "code",
   "execution_count": 4,
   "id": "0a9378dd-2c3a-49ab-a0f6-1cda6303bfea",
   "metadata": {},
   "outputs": [
    {
     "name": "stdout",
     "output_type": "stream",
     "text": [
      "['p', 'w', 's', 'k', 'i', 'l', 'l', 's']\n"
     ]
    }
   ],
   "source": [
    "l = 'pwskills'\n",
    "a = list(char for char in l)\n",
    "print(a)\n"
   ]
  },
  {
   "cell_type": "code",
   "execution_count": 6,
   "id": "2fc57c2a-6414-42fa-b286-edc0e35a9302",
   "metadata": {},
   "outputs": [
    {
     "name": "stdout",
     "output_type": "stream",
     "text": [
      "[1, 3, 5, 7, 9, 11, 13, 15, 17, 19, 21, 23, 25, 27, 29, 31, 33, 35, 37, 39, 41, 43, 45, 47, 49, 51, 53, 55, 57, 59, 61, 63, 65, 67, 69, 71, 73, 75, 77, 79, 81, 83, 85, 87, 89, 91, 93, 95, 97, 99]\n"
     ]
    }
   ],
   "source": [
    "a = list(i for i in range(1,101) if i%2!=0)\n",
    "print(a)"
   ]
  },
  {
   "cell_type": "code",
   "execution_count": null,
   "id": "66900c14-413e-4ac2-95dd-b67570235474",
   "metadata": {},
   "outputs": [],
   "source": []
  }
 ],
 "metadata": {
  "kernelspec": {
   "display_name": "Python 3 (ipykernel)",
   "language": "python",
   "name": "python3"
  },
  "language_info": {
   "codemirror_mode": {
    "name": "ipython",
    "version": 3
   },
   "file_extension": ".py",
   "mimetype": "text/x-python",
   "name": "python",
   "nbconvert_exporter": "python",
   "pygments_lexer": "ipython3",
   "version": "3.10.8"
  }
 },
 "nbformat": 4,
 "nbformat_minor": 5
}
