{
 "cells": [
  {
   "cell_type": "code",
   "execution_count": 1,
   "id": "fb72f68a-c6a6-4097-94a1-f9b510c593f4",
   "metadata": {},
   "outputs": [
    {
     "data": {
      "text/plain": [
       "'In Python, exceptions are used to signal errors or unexpected events that occur during program execution. \\nThey allow you to define your own error conditions and handle them in a more specific and meaningful way.\\nTo create a custom exception, you must create a class that inherits from the built-in Exception class.\\nThis makes it easy to create custom exceptions, which can make programs easier to follow and more readable'"
      ]
     },
     "execution_count": 1,
     "metadata": {},
     "output_type": "execute_result"
    }
   ],
   "source": [
    "\"\"\"In Python, exceptions are used to signal errors or unexpected events that occur during program execution. \n",
    "They allow you to define your own error conditions and handle them in a more specific and meaningful way.\n",
    "To create a custom exception, you must create a class that inherits from the built-in Exception class.\n",
    "This makes it easy to create custom exceptions, which can make programs easier to follow and more readable\"\"\""
   ]
  },
  {
   "cell_type": "code",
   "execution_count": 2,
   "id": "68aa8663-8030-4b1c-922a-125b17af7cf6",
   "metadata": {},
   "outputs": [
    {
     "name": "stdout",
     "output_type": "stream",
     "text": [
      "Traceback (most recent call last):\n",
      "  File \"/tmp/ipykernel_760/898414939.py\", line 5, in print_exception_hierarchy\n",
      "    raise Exception(\"Sample Exception\")\n",
      "Exception: Sample Exception\n"
     ]
    }
   ],
   "source": [
    "import traceback\n",
    "\n",
    "def print_exception_hierarchy():\n",
    "    try:\n",
    "        raise Exception(\"Sample Exception\")\n",
    "    except Exception as e:\n",
    "        # Get the exception hierarchy using traceback module\n",
    "        exception_hierarchy = traceback.format_exception(type(e), e, e.__traceback__)\n",
    "        # Print the exception hierarchy\n",
    "        for line in exception_hierarchy:\n",
    "            print(line, end='')\n",
    "\n",
    "# Call the function to print the exception hierarchy\n",
    "print_exception_hierarchy()\n"
   ]
  },
  {
   "cell_type": "code",
   "execution_count": 5,
   "id": "996ffbd8-091c-4d02-9c75-841669311b91",
   "metadata": {},
   "outputs": [
    {
     "data": {
      "text/plain": [
       "'OverflowError: This exception occurs when a numerical operation exceeds the limits of the available numeric type, resulting in an overflow'"
      ]
     },
     "execution_count": 5,
     "metadata": {},
     "output_type": "execute_result"
    }
   ],
   "source": [
    "\"\"\"The ArithmeticError class in Python is a base class for arithmetic-related exceptions\"\"\"\n",
    "\n",
    "\"\"\"ZeroDivisionError: This exception occurs when attempting to divide by zero, which is mathematically undefined\"\"\"\n",
    "\n",
    "\"\"\"OverflowError: This exception occurs when a numerical operation exceeds the limits of the available numeric type, resulting in an overflow\"\"\""
   ]
  },
  {
   "cell_type": "code",
   "execution_count": 6,
   "id": "a99cddce-f492-48fe-867d-5de23021bd06",
   "metadata": {},
   "outputs": [
    {
     "name": "stdout",
     "output_type": "stream",
     "text": [
      "Error: division by zero\n"
     ]
    }
   ],
   "source": [
    "try:\n",
    "    result = 10 / 0  # Attempting to divide by zero\n",
    "except ZeroDivisionError as e:\n",
    "    print(\"Error:\", e)\n"
   ]
  },
  {
   "cell_type": "code",
   "execution_count": 8,
   "id": "276eaf8f-1369-49d0-ab00-72a38a01ce1f",
   "metadata": {},
   "outputs": [],
   "source": [
    "try:\n",
    "    result = 2 ** 1000  # Attempting to calculate a large power\n",
    "except OverflowError as e:\n",
    "    print(\"Error:\", e)\n"
   ]
  },
  {
   "cell_type": "code",
   "execution_count": 9,
   "id": "1115390d-1526-4e8a-90f5-8baf7b837680",
   "metadata": {},
   "outputs": [
    {
     "data": {
      "text/plain": [
       "'The LookupError class in Python is a base class for exceptions that occur when a key or index is not found during a lookup operation'"
      ]
     },
     "execution_count": 9,
     "metadata": {},
     "output_type": "execute_result"
    }
   ],
   "source": [
    "\"\"\"The LookupError class in Python is a base class for exceptions that occur when a key or index is not found during a lookup operation\"\"\"\n",
    "\n"
   ]
  },
  {
   "cell_type": "code",
   "execution_count": 10,
   "id": "3049bd46-3029-4156-bae7-c083570da666",
   "metadata": {},
   "outputs": [
    {
     "name": "stdout",
     "output_type": "stream",
     "text": [
      "Error: 'd'\n"
     ]
    }
   ],
   "source": [
    "\"\"\"KeyError: This exception occurs when a dictionary key is not found during a dictionary lookup operation\"\"\"\n",
    "\n",
    "my_dict = {'a': 1, 'b': 2, 'c': 3}\n",
    "try:\n",
    "    value = my_dict['d']  # Attempting to access a key that doesn't exist\n",
    "except KeyError as e:\n",
    "    print(\"Error:\", e)\n"
   ]
  },
  {
   "cell_type": "code",
   "execution_count": 11,
   "id": "d7a4d6bb-0799-4da8-bd0a-807b5ceb380b",
   "metadata": {},
   "outputs": [
    {
     "name": "stdout",
     "output_type": "stream",
     "text": [
      "Error: list index out of range\n"
     ]
    }
   ],
   "source": [
    "\"\"\"IndexError: This exception occurs when trying to access an index that is out of range in a sequence (such as a list or tuple).\"\"\"\n",
    "\n",
    "my_list = [1, 2, 3]\n",
    "try:\n",
    "    value = my_list[5]  # Attempting to access an index that doesn't exist\n",
    "except IndexError as e:\n",
    "    print(\"Error:\", e)\n"
   ]
  },
  {
   "cell_type": "code",
   "execution_count": 12,
   "id": "fd24ae0b-6b85-410f-8ddf-ff03e5c610d4",
   "metadata": {},
   "outputs": [
    {
     "data": {
      "text/plain": [
       "'It specifically indicates that the requested module or package could not be found during the import operation.'"
      ]
     },
     "execution_count": 12,
     "metadata": {},
     "output_type": "execute_result"
    }
   ],
   "source": [
    "\"\"\"ImportError is a base class for exceptions that occur when there is a problem during the importation of a module or a package.\"\"\"\n",
    "\n",
    "\n",
    "\"\"\"It specifically indicates that the requested module or package could not be found during the import operation.\"\"\""
   ]
  },
  {
   "cell_type": "code",
   "execution_count": 14,
   "id": "5296f902-007a-41e5-b468-432fd33718b2",
   "metadata": {},
   "outputs": [
    {
     "data": {
      "text/plain": [
       "'Use Specific Exceptions. ...\\nImplement Error Logging. ...\\nDefine Custom Exception Classes. ...\\nHandle Exceptions Gracefully. ...\\nUse Finally for Cleanup Tasks.'"
      ]
     },
     "execution_count": 14,
     "metadata": {},
     "output_type": "execute_result"
    }
   ],
   "source": [
    "\"\"\"Use Specific Exceptions. ...\n",
    "Implement Error Logging. ...\n",
    "Define Custom Exception Classes. ...\n",
    "Handle Exceptions Gracefully. ...\n",
    "Use Finally for Cleanup Tasks.\"\"\""
   ]
  },
  {
   "cell_type": "code",
   "execution_count": null,
   "id": "c2ba6f3e-33ad-429f-8fd6-1475c9c3e6e2",
   "metadata": {},
   "outputs": [],
   "source": []
  }
 ],
 "metadata": {
  "kernelspec": {
   "display_name": "Python 3 (ipykernel)",
   "language": "python",
   "name": "python3"
  },
  "language_info": {
   "codemirror_mode": {
    "name": "ipython",
    "version": 3
   },
   "file_extension": ".py",
   "mimetype": "text/x-python",
   "name": "python",
   "nbconvert_exporter": "python",
   "pygments_lexer": "ipython3",
   "version": "3.10.8"
  }
 },
 "nbformat": 4,
 "nbformat_minor": 5
}
