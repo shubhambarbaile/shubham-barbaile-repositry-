{
 "cells": [
  {
   "cell_type": "code",
   "execution_count": 11,
   "id": "b33cfe1f-dfc5-48a7-b25a-f36af0a8851c",
   "metadata": {},
   "outputs": [],
   "source": [
    "#1\n",
    "class vehicle():\n",
    "    def __iit__(self,name_of_vehicle,max_speed,average_of_vehicle):\n",
    "        self.name_of_vehicle = name_of_vehicle\n",
    "        self.max_speed = max_speed\n",
    "        self.average_of_vehicle = average_of_vehicle"
   ]
  },
  {
   "cell_type": "code",
   "execution_count": 12,
   "id": "00b6d195-600c-4689-a26a-97e1f937a258",
   "metadata": {},
   "outputs": [],
   "source": [
    "#2\n",
    "class car(vehicle):\n",
    "    def seating_capacity(self,capacity):\n",
    "        return self.name_of_vehicle , capacity"
   ]
  },
  {
   "cell_type": "code",
   "execution_count": 11,
   "id": "4eb5d831-7b00-4f96-a814-da1d325c1c48",
   "metadata": {},
   "outputs": [],
   "source": [
    "##3 when a class can be derived from more than one base class this type of inheritance is called multiple inheritance.\n",
    "# In multiple ineritance all the feature of the base classes are inherited into the derived class. \n",
    "\n",
    "class bike():\n",
    "    def test_bike(self):\n",
    "        return \"he owns a bmw bike\"\n"
   ]
  },
  {
   "cell_type": "code",
   "execution_count": 12,
   "id": "cb7531c3-a53c-4847-a30e-e4e132d554da",
   "metadata": {},
   "outputs": [],
   "source": [
    "class car():\n",
    "    def test_car(self):\n",
    "        return \"he owns a bmw car\""
   ]
  },
  {
   "cell_type": "code",
   "execution_count": 15,
   "id": "48b01624-c7c6-4e53-a7dd-4250176a795f",
   "metadata": {},
   "outputs": [],
   "source": [
    "class owner(bike,car):\n",
    "    pass\n"
   ]
  },
  {
   "cell_type": "code",
   "execution_count": 16,
   "id": "86d76d3d-3dfe-4b88-8138-19d2b4942cb7",
   "metadata": {},
   "outputs": [],
   "source": [
    "owner_obj = owner()"
   ]
  },
  {
   "cell_type": "code",
   "execution_count": 17,
   "id": "2f33fac8-9acf-4ca7-8c3e-12d2781b8b7c",
   "metadata": {},
   "outputs": [
    {
     "data": {
      "text/plain": [
       "'he owns a bmw bike'"
      ]
     },
     "execution_count": 17,
     "metadata": {},
     "output_type": "execute_result"
    }
   ],
   "source": [
    "owner_obj.test_bike()"
   ]
  },
  {
   "cell_type": "code",
   "execution_count": null,
   "id": "692d460e-0fe0-4f3e-9359-60e297e0c4b3",
   "metadata": {},
   "outputs": [],
   "source": [
    "# 4 \n",
    "#Getter: A method that allows you to access an attribute in a given class.\n",
    "#Setter: A method that allows you to set or mutate the value of an attribute in a class\n",
    "\n",
    "class Person:\n",
    "    def __init__(self):\n",
    "        self._name = None\n",
    "\n",
    "    def get_name(self):\n",
    "        return self._name\n",
    "\n",
    "    def set_name(self, name):\n",
    "        self._name = name\n"
   ]
  },
  {
   "cell_type": "code",
   "execution_count": null,
   "id": "4f336fd0-1535-4fbe-9b62-098f4bd4b329",
   "metadata": {},
   "outputs": [],
   "source": [
    "shu = Person()"
   ]
  },
  {
   "cell_type": "code",
   "execution_count": null,
   "id": "389fb28a-f900-494d-9fd1-8ce247313763",
   "metadata": {},
   "outputs": [],
   "source": [
    "shu.set_name(\"ternama\")"
   ]
  },
  {
   "cell_type": "code",
   "execution_count": null,
   "id": "9266212f-580e-43ac-91cb-c6c9d4bfdbfc",
   "metadata": {},
   "outputs": [],
   "source": [
    "shu.get_name()"
   ]
  },
  {
   "cell_type": "code",
   "execution_count": null,
   "id": "5b0cb40a-dbf7-4850-845f-0a2b1fb2ac06",
   "metadata": {},
   "outputs": [],
   "source": [
    "#5 \n",
    "#In Python, when a subclass defines a method with the same name as a method in its superclass, it automatically overrides the method in the superclass. This means that when an instance of the subclass calls the method,\n",
    "#the overridden version in the subclass is executed instead of the superclass's implementation.\n",
    "\n",
    "\n",
    "\n",
    "class shubham():\n",
    "    def test_shubham(self):\n",
    "        print(\"shubham likes pranjuu\")\n",
    "        \n",
    "    \n",
    "class prajuu(shubham):\n",
    "    def test_shubham(self):\n",
    "        print(\"but pranjuu loves shubham\")\n",
    "        \n",
    "        "
   ]
  },
  {
   "cell_type": "code",
   "execution_count": null,
   "id": "65232edc-7b12-4877-b340-6450e460b376",
   "metadata": {},
   "outputs": [],
   "source": [
    "sh = pranjuu()"
   ]
  },
  {
   "cell_type": "code",
   "execution_count": null,
   "id": "f7b09556-4ee3-4f54-95d5-ac2de0374aba",
   "metadata": {},
   "outputs": [],
   "source": [
    "sh.test_shubham()"
   ]
  },
  {
   "cell_type": "code",
   "execution_count": null,
   "id": "8e958adb-2b2b-4b22-ae79-25932476a9f0",
   "metadata": {},
   "outputs": [],
   "source": []
  },
  {
   "cell_type": "code",
   "execution_count": null,
   "id": "ece75440-4626-43d3-b497-7638cbcee0d6",
   "metadata": {},
   "outputs": [],
   "source": []
  }
 ],
 "metadata": {
  "kernelspec": {
   "display_name": "Python 3 (ipykernel)",
   "language": "python",
   "name": "python3"
  },
  "language_info": {
   "codemirror_mode": {
    "name": "ipython",
    "version": 3
   },
   "file_extension": ".py",
   "mimetype": "text/x-python",
   "name": "python",
   "nbconvert_exporter": "python",
   "pygments_lexer": "ipython3",
   "version": "3.10.8"
  }
 },
 "nbformat": 4,
 "nbformat_minor": 5
}
