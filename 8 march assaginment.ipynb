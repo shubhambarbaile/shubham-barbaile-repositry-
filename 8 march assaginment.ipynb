{
 "cells": [
  {
   "cell_type": "code",
   "execution_count": 1,
   "id": "616362d2-45d6-4282-bdd6-d2916ec58616",
   "metadata": {},
   "outputs": [],
   "source": [
    "#a probability density function, density function, or density of an absolutely continuous random \n",
    "#variable, is a function whose value at any given sample in the sample space can be interpreted as providing a relative\n",
    "#likelihood that the value of the random variable would be equal to that sample"
   ]
  },
  {
   "cell_type": "code",
   "execution_count": 2,
   "id": "689a6735-b271-4623-b368-03b452c8fc4e",
   "metadata": {},
   "outputs": [],
   "source": [
    "# 1) Binomial distribution function\n",
    "#2) Bernoulis distribution funciton\n",
    "#3) Uniform distibustion Function \n",
    "#4) log normal distribution function \n",
    "#5) Poisson Distribution function "
   ]
  },
  {
   "cell_type": "code",
   "execution_count": 6,
   "id": "7a3b74af-886e-4089-9f62-b1f3321ff55d",
   "metadata": {},
   "outputs": [
    {
     "name": "stdout",
     "output_type": "stream",
     "text": [
      "PDF at point 1.5 = 0.12951759566589174\n"
     ]
    }
   ],
   "source": [
    "#3\n",
    "import scipy.stats as stats\n",
    "def calculate_pdf(x,mean,std_dev):\n",
    "    \n",
    "    ab = stats.norm.pdf(x, mean, std_dev)\n",
    "    return ab\n",
    "\n",
    "mean = 0\n",
    "std_dev = 1\n",
    "x = 1.5\n",
    "pdf_at_point = calculate_pdf(x, mean, std_dev)\n",
    "print(f\"PDF at point {point} = {pdf_at_point}\")\n"
   ]
  },
  {
   "cell_type": "code",
   "execution_count": 7,
   "id": "2050b390-dad6-4303-a069-7ae870b00d29",
   "metadata": {},
   "outputs": [],
   "source": [
    "# Binomial distribution is applicable when the trials are independent and each trial has just two outcomes success and failure\n",
    "# Tossing a coin is a good example of binomial function \n",
    "# asking the peoples is there gender is male "
   ]
  },
  {
   "cell_type": "code",
   "execution_count": 9,
   "id": "6bb14949-abb7-4820-9936-64d852260403",
   "metadata": {},
   "outputs": [
    {
     "data": {
      "image/png": "[encoded data removed]",
      "text/plain": [
       "<Figure size 640x480 with 1 Axes>"
      ]
     },
     "metadata": {},
     "output_type": "display_data"
    }
   ],
   "source": [
    "import numpy as np\n",
    "import matplotlib.pyplot as plt\n",
    "n = 1       \n",
    "p = 0.4 \n",
    "sample_size = 1000\n",
    "random_sample = np.random.binomial(n, p, sample_size)\n",
    "plt.hist(random_sample, bins=np.arange(-0.5, n + 1.5, 1), align='mid', alpha=0.7, rwidth=0.8, edgecolor='black')\n",
    "plt.xticks(np.arange(0, n + 1, 1))\n",
    "plt.xlabel('Number of Successes')\n",
    "plt.ylabel('Frequency')\n",
    "plt.title(f'Binomial Distribution (n={n}, p={p})')\n",
    "plt.grid(axis='y', alpha=0.75)\n",
    "plt.show()\n"
   ]
  },
  {
   "cell_type": "code",
   "execution_count": 11,
   "id": "dacf2fa3-c94a-41be-9611-92c2697812f0",
   "metadata": {},
   "outputs": [
    {
     "name": "stdout",
     "output_type": "stream",
     "text": [
      "0.8158857925585467\n"
     ]
    }
   ],
   "source": [
    "import scipy.stats as stats\n",
    "def ab(x,mean):\n",
    "    cd = stats.poisson.cdf(x, mu = mean)\n",
    "    return cd \n",
    "\n",
    "mean = 8 \n",
    "x = 10\n",
    "bd = ab(x,mean)\n",
    "print(bd)\n",
    "    "
   ]
  },
  {
   "cell_type": "code",
   "execution_count": 12,
   "id": "1f84aa30-913f-4c3e-97c9-5245c872c407",
   "metadata": {},
   "outputs": [],
   "source": [
    "# the binomial function you can perform n times \n",
    "# in poisson function describes the number of events occuring in the specific time interval"
   ]
  },
  {
   "cell_type": "code",
   "execution_count": 16,
   "id": "74bb229a-5322-4708-884c-e22bf2759954",
   "metadata": {},
   "outputs": [
    {
     "name": "stdout",
     "output_type": "stream",
     "text": [
      "4.4463023023023025\n",
      "4.988\n"
     ]
    }
   ],
   "source": [
    "import numpy as np\n",
    "mean = 5 \n",
    "sample= 1000\n",
    "rdsample=  np.random.poisson(mean,sample)\n",
    "mean_rd = np.mean(rdsample)\n",
    "svar = np.var(rdsample,ddof =1)\n",
    "print(svar)\n",
    "print(mean_rd)\n",
    "\n"
   ]
  },
  {
   "cell_type": "code",
   "execution_count": 17,
   "id": "24dee42a-fa33-4d7e-9113-3685538de1e3",
   "metadata": {},
   "outputs": [],
   "source": [
    "# in poisson distibution the mean and the variance is the same value.\n",
    "# in binomial distribution the mean = np and the varience = npq that means the mean is the \n",
    "#product of success and the no of events where as varience is the product of success,failure and the no of events"
   ]
  },
  {
   "cell_type": "code",
   "execution_count": null,
   "id": "1a885c7b-bc9d-472a-a9a9-c334daaa2d6d",
   "metadata": {},
   "outputs": [],
   "source": [
    "# in the normal distribution the curve is in the form of the bell curve and mean is the center point of the curve \n",
    "# with respect to the mean position the least frequent data occure in the tails of the curve and we can also say after the 3rd \n",
    "# standard deviation the least frequent dat"
   ]
  }
 ],
 "metadata": {
  "kernelspec": {
   "display_name": "Python 3 (ipykernel)",
   "language": "python",
   "name": "python3"
  },
  "language_info": {
   "codemirror_mode": {
    "name": "ipython",
    "version": 3
   },
   "file_extension": ".py",
   "mimetype": "text/x-python",
   "name": "python",
   "nbconvert_exporter": "python",
   "pygments_lexer": "ipython3",
   "version": "3.10.8"
  }
 },
 "nbformat": 4,
 "nbformat_minor": 5
}
