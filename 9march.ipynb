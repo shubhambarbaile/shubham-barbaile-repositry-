{
 "cells": [
  {
   "cell_type": "code",
   "execution_count": 1,
   "id": "8df8754f-0dde-423f-aca6-37acdd87f3b5",
   "metadata": {},
   "outputs": [],
   "source": [
    "#Probability mass function can be defined as the probability that a discrete random variable will be exactly equal to some particular value\n",
    "#a probability density function, density function, or density of an absolutely continuous random variable, is a\n",
    "#function whose value at any given sample in the sample space can be interpreted as providing a relative likelihood that the \n",
    "#value of the random variable would be equal to that sample"
   ]
  },
  {
   "cell_type": "code",
   "execution_count": null,
   "id": "0b55844f-e006-4655-acdb-cb03e65533a5",
   "metadata": {},
   "outputs": [],
   "source": []
  },
  {
   "cell_type": "code",
   "execution_count": 2,
   "id": "94937073-e423-4a00-8be9-48014b6fb6e5",
   "metadata": {},
   "outputs": [
    {
     "data": {
      "text/plain": [
       "\"CDF of a random variable 'X' is defined as a function given by, FX(x) = P(X ≤ x)where the x ∈ R. \\nThis indicates that CDF is applicable for all the x ∈ R. It helps to calculate the probability of a random variable \\nwhere the population is taken less than or equal to a particular value.\""
      ]
     },
     "execution_count": 2,
     "metadata": {},
     "output_type": "execute_result"
    }
   ],
   "source": [
    "\"\"\"CDF of a random variable 'X' is defined as a function given by, FX(x) = P(X ≤ x)where the x ∈ R. \n",
    "This indicates that CDF is applicable for all the x ∈ R. It helps to calculate the probability of a random variable \n",
    "where the population is taken less than or equal to a particular value.\"\"\"\n"
   ]
  },
  {
   "cell_type": "code",
   "execution_count": 3,
   "id": "3487393c-1f75-41bc-83dd-9ef1f6c09920",
   "metadata": {},
   "outputs": [
    {
     "data": {
      "text/plain": [
       "'Characteristics that are the sum of many independent processes frequently follow normal distributions. \\nFor example, heights, blood pressure, measurement error, and IQ scores follow the normal distribution.\\n\\nThe two main parameters of a (normal) distribution are the mean and standard deviation. \\nThe parameters determine the shape and probabilities of the distribution. \\nThe shape of the distribution changes as the parameter values change.'"
      ]
     },
     "execution_count": 3,
     "metadata": {},
     "output_type": "execute_result"
    }
   ],
   "source": [
    "\"\"\"Characteristics that are the sum of many independent processes frequently follow normal distributions. \n",
    "For example, heights, blood pressure, measurement error, and IQ scores follow the normal distribution.\n",
    "\n",
    "The two main parameters of a (normal) distribution are the mean and standard deviation. \n",
    "The parameters determine the shape and probabilities of the distribution. \n",
    "The shape of the distribution changes as the parameter values change.\"\"\""
   ]
  },
  {
   "cell_type": "code",
   "execution_count": 4,
   "id": "b0863844-0f58-4d6b-a795-1cd7bec9edeb",
   "metadata": {},
   "outputs": [
    {
     "data": {
      "text/plain": [
       "' normal distribution is important because it can be used to approximate other types of probability distribution,\\nsuch as binomial, hypergeometric, inverse (or negative) hypergeometric, negative binomial and Poisson distribution.\\n\\nHeight, birth weight, reading ability, job satisfaction, or SAT scores are just a few examples of such variables.'"
      ]
     },
     "execution_count": 4,
     "metadata": {},
     "output_type": "execute_result"
    }
   ],
   "source": [
    "\"\"\" normal distribution is important because it can be used to approximate other types of probability distribution,\n",
    "such as binomial, hypergeometric, inverse (or negative) hypergeometric, negative binomial and Poisson distribution.\n",
    "\n",
    "Height, birth weight, reading ability, job satisfaction, or SAT scores are just a few examples of such variables.\"\"\""
   ]
  },
  {
   "cell_type": "code",
   "execution_count": 5,
   "id": "65442114-0b67-4098-8273-ce12f770d766",
   "metadata": {},
   "outputs": [
    {
     "data": {
      "text/plain": [
       "'Bernoulli distribution is a discrete probability distribution.\\nIt describes the probability of achieving a “success” or “failure” from a Bernoulli trial.\\n\\nThe Bernoulli distribution represents the success or failure of a single Bernoulli trial. The Binomial \\nDistribution represents the number of successes and failures in n independent Bernoulli trials for some given value of n.'"
      ]
     },
     "execution_count": 5,
     "metadata": {},
     "output_type": "execute_result"
    }
   ],
   "source": [
    "\"\"\"Bernoulli distribution is a discrete probability distribution.\n",
    "It describes the probability of achieving a “success” or “failure” from a Bernoulli trial.\n",
    "\n",
    "The Bernoulli distribution represents the success or failure of a single Bernoulli trial. The Binomial \n",
    "Distribution represents the number of successes and failures in n independent Bernoulli trials for some given value of n.\"\"\""
   ]
  },
  {
   "cell_type": "code",
   "execution_count": 7,
   "id": "4b7a243a-42a3-4142-86fc-681058459e03",
   "metadata": {},
   "outputs": [
    {
     "data": {
      "text/plain": [
       "'use the formula for z score = 60-50/10 \\n = 1 \\n\\nfor the area under the curve check the value of 1 in z table =  .84134\\n84% \\n\\ntotal area is always 1 \\n= 1 -  .84134 = \\n= 0.158\\nthat is 15% '"
      ]
     },
     "execution_count": 7,
     "metadata": {},
     "output_type": "execute_result"
    }
   ],
   "source": [
    "\"\"\"use the formula for z score = 60-50/10 \n",
    " = 1 \n",
    "\n",
    "for the area under the curve check the value of 1 in z table =  .84134\n",
    "84% \n",
    "\n",
    "total area is always 1 \n",
    "= 1 -  .84134 = \n",
    "= 0.158\n",
    "that is 15% \"\"\"\n"
   ]
  },
  {
   "cell_type": "code",
   "execution_count": 8,
   "id": "3183a60d-bf89-4d04-839d-ba5c1c46c59b",
   "metadata": {},
   "outputs": [
    {
     "data": {
      "text/plain": [
       "'In statistics, uniform distribution refers to a type of probability distribution in which all outcomes are equally likely. \\nA deck of cards has within it uniform distributions because the likelihood of drawing a heart, a club, a diamond, or\\na spade is equally likely\\n'"
      ]
     },
     "execution_count": 8,
     "metadata": {},
     "output_type": "execute_result"
    }
   ],
   "source": [
    "\"\"\"In statistics, uniform distribution refers to a type of probability distribution in which all outcomes are equally likely. \n",
    "A deck of cards has within it uniform distributions because the likelihood of drawing a heart, a club, a diamond, or\n",
    "a spade is equally likely\n",
    "\"\"\"\n"
   ]
  },
  {
   "cell_type": "code",
   "execution_count": 9,
   "id": "317b418c-9746-440b-87af-7d2db12febf2",
   "metadata": {},
   "outputs": [
    {
     "data": {
      "text/plain": [
       "'A z-score measures the distance between a data point and the mean using standard deviations. \\nZ-scores can be positive or negative. The sign tells you whether the observation is above or below the mean.'"
      ]
     },
     "execution_count": 9,
     "metadata": {},
     "output_type": "execute_result"
    }
   ],
   "source": [
    "\"\"\"A z-score measures the distance between a data point and the mean using standard deviations. \n",
    "Z-scores can be positive or negative. The sign tells you whether the observation is above or below the mean.\"\"\""
   ]
  },
  {
   "cell_type": "code",
   "execution_count": 10,
   "id": "35eea693-db19-41e8-a524-74689cba4c00",
   "metadata": {},
   "outputs": [
    {
     "data": {
      "text/plain": [
       "\"The central limit theorem (CLT) states that the distribution of sample means approximates a normal distribution as \\nthe sample size gets larger, regardless of the population's distribution. Sample sizes equal to or greater than \\n30 are often considered sufficient for the CLT to hold.\""
      ]
     },
     "execution_count": 10,
     "metadata": {},
     "output_type": "execute_result"
    }
   ],
   "source": [
    "\"\"\"The central limit theorem (CLT) states that the distribution of sample means approximates a normal distribution as \n",
    "the sample size gets larger, regardless of the population's distribution. Sample sizes equal to or greater than \n",
    "30 are often considered sufficient for the CLT to hold.\"\"\""
   ]
  },
  {
   "cell_type": "code",
   "execution_count": 11,
   "id": "b666f904-0e54-4c1a-b2d8-5b115ab1ced3",
   "metadata": {},
   "outputs": [
    {
     "data": {
      "text/plain": [
       "'The data must adhere to the randomization rule. It needs to be sampled at random. The samples should be unrelated to one another.\\nOne sample should not impact the others.'"
      ]
     },
     "execution_count": 11,
     "metadata": {},
     "output_type": "execute_result"
    }
   ],
   "source": [
    "\"\"\"The data must adhere to the randomization rule. It needs to be sampled at random. The samples should be unrelated to one another.\n",
    "One sample should not impact the others.\"\"\""
   ]
  },
  {
   "cell_type": "code",
   "execution_count": null,
   "id": "fd373f17-7862-4ba7-9578-f958131f947e",
   "metadata": {},
   "outputs": [],
   "source": []
  }
 ],
 "metadata": {
  "kernelspec": {
   "display_name": "Python 3 (ipykernel)",
   "language": "python",
   "name": "python3"
  },
  "language_info": {
   "codemirror_mode": {
    "name": "ipython",
    "version": 3
   },
   "file_extension": ".py",
   "mimetype": "text/x-python",
   "name": "python",
   "nbconvert_exporter": "python",
   "pygments_lexer": "ipython3",
   "version": "3.10.8"
  }
 },
 "nbformat": 4,
 "nbformat_minor": 5
}
