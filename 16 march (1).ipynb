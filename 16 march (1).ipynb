{
 "cells": [
  {
   "cell_type": "code",
   "execution_count": 1,
   "id": "5b75025b-2d12-4274-b7f2-6a98f10886eb",
   "metadata": {},
   "outputs": [
    {
     "data": {
      "text/plain": [
       "'Underfit models experience high bias—they give inaccurate results for both the training data and test set. \\nOn the other hand, overfit models experience high variance—they give accurate results for the training set but \\nnot for the test set. More model training results in less bias but variance can increase.'"
      ]
     },
     "execution_count": 1,
     "metadata": {},
     "output_type": "execute_result"
    }
   ],
   "source": [
    "\"\"\"Underfit models experience high bias—they give inaccurate results for both the training data and test set. \n",
    "On the other hand, overfit models experience high variance—they give accurate results for the training set but \n",
    "not for the test set. More model training results in less bias but variance can increase.\"\"\""
   ]
  },
  {
   "cell_type": "code",
   "execution_count": 2,
   "id": "b174b910-f0c3-481e-8d76-ef42f081acd3",
   "metadata": {},
   "outputs": [
    {
     "data": {
      "text/plain": [
       "'You can prevent overfitting by diversifying and scaling your training data set or using some other data science \\nstrategies, like those given below. Early stopping pauses the training phase before the machine learning model \\nlearns the noise in the data.'"
      ]
     },
     "execution_count": 2,
     "metadata": {},
     "output_type": "execute_result"
    }
   ],
   "source": [
    "\"\"\"You can prevent overfitting by diversifying and scaling your training data set or using some other data science \n",
    "strategies, like those given below. Early stopping pauses the training phase before the machine learning model \n",
    "learns the noise in the data.\"\"\""
   ]
  },
  {
   "cell_type": "code",
   "execution_count": 3,
   "id": "4deffe89-047e-4803-94cc-1a0a283085fd",
   "metadata": {},
   "outputs": [
    {
     "data": {
      "text/plain": [
       "'Its occurrence simply means that our model or the algorithm does not fit the data well enough.\\nIt usually happens when we have less data to build an accurate model and also when we try to build a \\nlinear model with fewer non-linear data'"
      ]
     },
     "execution_count": 3,
     "metadata": {},
     "output_type": "execute_result"
    }
   ],
   "source": [
    "\"\"\"Its occurrence simply means that our model or the algorithm does not fit the data well enough.\n",
    "It usually happens when we have less data to build an accurate model and also when we try to build a \n",
    "linear model with fewer non-linear data\"\"\""
   ]
  },
  {
   "cell_type": "code",
   "execution_count": 4,
   "id": "be912db9-c962-43e1-b0ce-19ed852c0693",
   "metadata": {},
   "outputs": [
    {
     "data": {
      "text/plain": [
       "\"Bias represents the error due to overly simplistic assumptions in the learning algorithm.\\nHigh bias can cause the model to underfit the data, leading to poor performance on both training and unseen data. \\nVariance, on the other hand, reflects the model's sensitivity to small fluctuations \\nin the training data.\""
      ]
     },
     "execution_count": 4,
     "metadata": {},
     "output_type": "execute_result"
    }
   ],
   "source": [
    "\"\"\"Bias represents the error due to overly simplistic assumptions in the learning algorithm.\n",
    "High bias can cause the model to underfit the data, leading to poor performance on both training and unseen data. \n",
    "Variance, on the other hand, reflects the model's sensitivity to small fluctuations \n",
    "in the training data.\"\"\""
   ]
  },
  {
   "cell_type": "code",
   "execution_count": 1,
   "id": "afdbd924-11b6-4171-918c-d2e929a8d13b",
   "metadata": {},
   "outputs": [
    {
     "data": {
      "text/plain": [
       "'We can determine whether a predictive model is underfitting or overfitting the training data by looking at\\nthe prediction error on the training data and the evaluation data. Your model is underfitting the training data \\nwhen the model performs poorly on the training data.'"
      ]
     },
     "execution_count": 1,
     "metadata": {},
     "output_type": "execute_result"
    }
   ],
   "source": [
    "\"\"\"We can determine whether a predictive model is underfitting or overfitting the training data by looking at\n",
    "the prediction error on the training data and the evaluation data. Your model is underfitting the training data \n",
    "when the model performs poorly on the training data.\"\"\""
   ]
  },
  {
   "cell_type": "code",
   "execution_count": 2,
   "id": "5c54ffe3-032e-41de-aef8-3d5121af2240",
   "metadata": {},
   "outputs": [
    {
     "data": {
      "text/plain": [
       "'A model with high variance may represent the data set accurately but could lead to overfitting to noisy \\nor otherwise unrepresentative training data. In comparison, a model with high bias may underfit the training \\ndata due to a simpler model that overlooks regularities in the data.'"
      ]
     },
     "execution_count": 2,
     "metadata": {},
     "output_type": "execute_result"
    }
   ],
   "source": [
    "\"\"\"A model with high variance may represent the data set accurately but could lead to overfitting to noisy \n",
    "or otherwise unrepresentative training data. In comparison, a model with high bias may underfit the training \n",
    "data due to a simpler model that overlooks regularities in the data.\"\"\""
   ]
  },
  {
   "cell_type": "code",
   "execution_count": 3,
   "id": "516d08db-5f67-421d-9dac-8b35d9d98061",
   "metadata": {},
   "outputs": [
    {
     "data": {
      "text/plain": [
       "'In short, Regularization in machine learning is the process of regularizing the parameters that constrain, \\nregularizes, or shrinks the coefficient estimates towards zero. In other words, this technique discourages learning \\na more complex or flexible model, avoiding the risk of Overfitting.'"
      ]
     },
     "execution_count": 3,
     "metadata": {},
     "output_type": "execute_result"
    }
   ],
   "source": [
    "\"\"\"In short, Regularization in machine learning is the process of regularizing the parameters that constrain, \n",
    "regularizes, or shrinks the coefficient estimates towards zero. In other words, this technique discourages learning \n",
    "a more complex or flexible model, avoiding the risk of Overfitting.\"\"\""
   ]
  },
  {
   "cell_type": "code",
   "execution_count": null,
   "id": "748e068b-a25e-4164-8af0-83e94ddf860d",
   "metadata": {},
   "outputs": [],
   "source": []
  }
 ],
 "metadata": {
  "kernelspec": {
   "display_name": "Python 3 (ipykernel)",
   "language": "python",
   "name": "python3"
  },
  "language_info": {
   "codemirror_mode": {
    "name": "ipython",
    "version": 3
   },
   "file_extension": ".py",
   "mimetype": "text/x-python",
   "name": "python",
   "nbconvert_exporter": "python",
   "pygments_lexer": "ipython3",
   "version": "3.10.8"
  }
 },
 "nbformat": 4,
 "nbformat_minor": 5
}
