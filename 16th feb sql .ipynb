{
 "cells": [
  {
   "cell_type": "code",
   "execution_count": 1,
   "id": "ea35a2a1-75b8-4b83-99e9-64221afc7524",
   "metadata": {},
   "outputs": [
    {
     "data": {
      "text/plain": [
       "'SQL databases are relational, and NoSQL databases are non-relational.\\nSQL databases use structured query language (SQL) and have a predefined schema. NoSQL databases have dynamic schemas for unstructured data.\\nSQL databases are vertically scalable, while NoSQL databases are horizontally scalable.\\nSQL databases are table-based, while NoSQL databases are document, key-value, graph, or wide-column stores.\\nSQL databases are better for multi-row transactions, while NoSQL is better for unstructured data like documents or JSON'"
      ]
     },
     "execution_count": 1,
     "metadata": {},
     "output_type": "execute_result"
    }
   ],
   "source": [
    "#an organized collection of structured information, or data, typically stored electronically in a computer system\n",
    "\n",
    "\"\"\"SQL databases are relational, and NoSQL databases are non-relational.\n",
    "SQL databases use structured query language (SQL) and have a predefined schema. NoSQL databases have dynamic schemas for unstructured data.\n",
    "SQL databases are vertically scalable, while NoSQL databases are horizontally scalable.\n",
    "SQL databases are table-based, while NoSQL databases are document, key-value, graph, or wide-column stores.\n",
    "SQL databases are better for multi-row transactions, while NoSQL is better for unstructured data like documents or JSON\"\"\""
   ]
  },
  {
   "cell_type": "code",
   "execution_count": 2,
   "id": "237e0b46-19bd-4e12-b9c1-331fbc55177f",
   "metadata": {},
   "outputs": [
    {
     "data": {
      "text/plain": [
       "'Data definition language (DDL) describes the portion of SQL that creates, alters, and deletes database objects. \\nThese database objects include schemas, tables, views, sequences, catalogs, indexes, variables, masks, permissions,\\nand aliases. Creating a schema. A schema provides a logical grouping of SQL objects'"
      ]
     },
     "execution_count": 2,
     "metadata": {},
     "output_type": "execute_result"
    }
   ],
   "source": [
    "\"\"\"Data definition language (DDL) describes the portion of SQL that creates, alters, and deletes database objects. \n",
    "These database objects include schemas, tables, views, sequences, catalogs, indexes, variables, masks, permissions,\n",
    "and aliases. Creating a schema. A schema provides a logical grouping of SQL objects\"\"\"\n",
    "\n"
   ]
  },
  {
   "cell_type": "code",
   "execution_count": 4,
   "id": "01ab98aa-61a9-43ec-a367-e2248db51160",
   "metadata": {},
   "outputs": [
    {
     "ename": "SyntaxError",
     "evalue": "invalid syntax (2000694611.py, line 2)",
     "output_type": "error",
     "traceback": [
      "\u001b[0;36m  Cell \u001b[0;32mIn[4], line 2\u001b[0;36m\u001b[0m\n\u001b[0;31m    CREATE TABLE Persons (\u001b[0m\n\u001b[0m           ^\u001b[0m\n\u001b[0;31mSyntaxError\u001b[0m\u001b[0;31m:\u001b[0m invalid syntax\n"
     ]
    }
   ],
   "source": [
    "\"\"\"The CREATE TABLE statement is used to create a new table in a database.\"\"\"\n",
    "CREATE TABLE Persons (\n",
    "    PersonID int,\n",
    "    LastName varchar(255),\n",
    "    FirstName varchar(255),\n",
    "    Address varchar(255),\n",
    "    City varchar(255)\n",
    ");\n",
    "\n",
    "\n",
    "\n",
    "\"\"\"The DROP TABLE statement is used to drop an existing table in a database.\"\"\"\n",
    "\n",
    "DROP TABLE table_name;\n",
    "\n",
    "\n",
    "\n",
    "\"\"\"The ALTER TABLE statement is used to add, delete, or modify columns in an existing table\"\"\"\n",
    "\n",
    "\n",
    "ALTER TABLE Customers\n",
    "ADD Email varchar(255);\n",
    "\n",
    "\n",
    "\n",
    "\"\"\"The TRUNCATE TABLE statement is used to delete the data inside a table, but not the table itself.\"\"\"\n",
    "\n",
    "TRUNCATE TABLE table_name;"
   ]
  },
  {
   "cell_type": "code",
   "execution_count": 5,
   "id": "07a59a65-0ff2-497e-a20f-5f72488c5fe2",
   "metadata": {},
   "outputs": [
    {
     "ename": "SyntaxError",
     "evalue": "invalid syntax (1972995910.py, line 6)",
     "output_type": "error",
     "traceback": [
      "\u001b[0;36m  Cell \u001b[0;32mIn[5], line 6\u001b[0;36m\u001b[0m\n\u001b[0;31m    INSERT INTO table_name (column_name1, column_name2, column_name3, ....)\u001b[0m\n\u001b[0m           ^\u001b[0m\n\u001b[0;31mSyntaxError\u001b[0m\u001b[0;31m:\u001b[0m invalid syntax\n"
     ]
    }
   ],
   "source": [
    "\"\"\"DML stands for Data Manipulation Language. It's a computer programming language used to add, delete, \n",
    "and modify data in a database.\"\"\"\n",
    "\n",
    "\"\"\"INSERT is a DML command in SQL that is used to insert new records into database tables.\"\"\"\n",
    "\n",
    "INSERT INTO table_name (column_name1, column_name2, column_name3, ....)\n",
    "VALUES (value_1, value_2, value_3, ....);\n",
    "\n",
    "\n",
    "\"\"\"The UPDATE statement is used to modify the existing records in a table.\"\"\"\n",
    "\n",
    "UPDATE table_name\n",
    "SET column1 = value1, column2 = value2, ...\n",
    "WHERE condition;\n",
    "\n",
    "\"\"\"The DELETE statement is used to delete existing records in a table.\"\"\"\n",
    "\n",
    "DELETE FROM table_name WHERE condition;\n"
   ]
  },
  {
   "cell_type": "code",
   "execution_count": 1,
   "id": "26eed0f2-9c28-474d-902b-40e742baa122",
   "metadata": {},
   "outputs": [
    {
     "ename": "SyntaxError",
     "evalue": "invalid syntax (3253995340.py, line 6)",
     "output_type": "error",
     "traceback": [
      "\u001b[0;36m  Cell \u001b[0;32mIn[1], line 6\u001b[0;36m\u001b[0m\n\u001b[0;31m    SELECT column_name1, column_name2,....FROM table_name;\u001b[0m\n\u001b[0m           ^\u001b[0m\n\u001b[0;31mSyntaxError\u001b[0m\u001b[0;31m:\u001b[0m invalid syntax\n"
     ]
    }
   ],
   "source": [
    "\"\"\"Data Query Language(DQL) is used to retrieve data from the database using SQL queries.\"\"\"\n",
    "\n",
    "\"\"\"The SELECT command does not manipulate any data in the table It is used to see the existing records present in the tables\"\"\"\n",
    "\n",
    "\n",
    "SELECT column_name1, column_name2,....FROM table_name;\n",
    "\n",
    "\n"
   ]
  },
  {
   "cell_type": "code",
   "execution_count": 2,
   "id": "ab70f863-da9c-49fc-9f6a-04e70a1da6be",
   "metadata": {},
   "outputs": [
    {
     "data": {
      "text/plain": [
       "'Primary keys serve as unique identifiers for each row in a database table. \\nForeign keys link data in one table to the data in another table'"
      ]
     },
     "execution_count": 2,
     "metadata": {},
     "output_type": "execute_result"
    }
   ],
   "source": [
    "\"\"\"Primary keys serve as unique identifiers for each row in a database table. \n",
    "Foreign keys link data in one table to the data in another table\"\"\""
   ]
  },
  {
   "cell_type": "code",
   "execution_count": 3,
   "id": "7a5d90cf-16c1-432c-af84-882a50d21ba5",
   "metadata": {},
   "outputs": [
    {
     "ename": "SyntaxError",
     "evalue": "invalid syntax (3459816442.py, line 1)",
     "output_type": "error",
     "traceback": [
      "\u001b[0;36m  Cell \u001b[0;32mIn[3], line 1\u001b[0;36m\u001b[0m\n\u001b[0;31m    pip install mysql-connector-python\u001b[0m\n\u001b[0m        ^\u001b[0m\n\u001b[0;31mSyntaxError\u001b[0m\u001b[0;31m:\u001b[0m invalid syntax\n"
     ]
    }
   ],
   "source": [
    "pip install mysql-connector-python\n",
    "\n",
    "\n",
    "import mysql.connector \n",
    "\n",
    "\"\"\"cursor() method: they are bound to the connection for the entire lifetime and all the commands are \n",
    "executed in the context of the database session wrapped by the connection\"\"\"\n",
    "\n",
    "\n",
    "\"\"\"The execute() method executes an SQL statement on the database.\"\"\""
   ]
  },
  {
   "cell_type": "code",
   "execution_count": 4,
   "id": "30b6d359-be3d-47af-9e8b-59bd32332d7a",
   "metadata": {},
   "outputs": [
    {
     "data": {
      "text/plain": [
       "'Getting Data (FROM/JOIN)\\nRow Filter (WHERE)\\nGrouping (GROUP BY)\\nGroup Filter (HAVING)\\nReturn Expression (SELECT)\\nOrder & Paging (ORDER BY & LIMIT/OFFSET)'"
      ]
     },
     "execution_count": 4,
     "metadata": {},
     "output_type": "execute_result"
    }
   ],
   "source": [
    "\"\"\"Getting Data (FROM/JOIN)\n",
    "Row Filter (WHERE)\n",
    "Grouping (GROUP BY)\n",
    "Group Filter (HAVING)\n",
    "Return Expression (SELECT)\n",
    "Order & Paging (ORDER BY & LIMIT/OFFSET)\"\"\""
   ]
  },
  {
   "cell_type": "code",
   "execution_count": null,
   "id": "75f638e7-9a2d-43c9-af6c-06e7da9df86d",
   "metadata": {},
   "outputs": [],
   "source": []
  }
 ],
 "metadata": {
  "kernelspec": {
   "display_name": "Python 3 (ipykernel)",
   "language": "python",
   "name": "python3"
  },
  "language_info": {
   "codemirror_mode": {
    "name": "ipython",
    "version": 3
   },
   "file_extension": ".py",
   "mimetype": "text/x-python",
   "name": "python",
   "nbconvert_exporter": "python",
   "pygments_lexer": "ipython3",
   "version": "3.10.8"
  }
 },
 "nbformat": 4,
 "nbformat_minor": 5
}
